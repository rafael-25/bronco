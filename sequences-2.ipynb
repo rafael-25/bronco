{
 "cells": [
  {
   "cell_type": "markdown",
   "metadata": {},
   "source": [
    "## Big Idea 3: Algorithms & Programming\n",
    "\n",
    "### Essential Questions:\n",
    "\n",
    "- How does using data structures strategically improve how information is organized and represented? \n",
    "\n",
    "- What impact does this have on making programming problem-solving more efficient and effective?\n",
    "\n",
    "### Students will be able to:\n",
    "\n",
    "- Explain the concept of a list in Python, emphasizing its role in storing and organizing multiple elements.\n",
    "\n",
    "- Discuss the benefits of using lists in programming, such as flexibility, ease of manipulation, and efficient data storage.\n",
    "\n",
    "- Demonstrate the ability to create lists in Python and modify their contents.\n",
    "\n",
    "- Illustrate the process of adding, removing, and updating elements in a list to showcase mutability.\n",
    "\n",
    "- Explore the usage of list methods by calling them in practical scenarios.\n",
    "\n",
    "- Develop the skill to predict the program output after applying various list methods, emphasizing how these methods alter the list structure.\n",
    "\n",
    "## Agenda:\n",
    "\n",
    "Today's Topics:\n",
    "\n",
    "- **0: Understanding the Importance of Iteration**\n",
    "  - Recognize the necessity of iteration for manipulating lists.\n",
    "\n",
    "- **1: Fundamentals of Iterating Through Lists**\n",
    "  - Acquire foundational knowledge of creating and working with lists in the Python programming language.\n",
    "\n",
    "- **2: Exploring Key Iterative Techniques for Lists**\n",
    "  - Dive into the concept of indexing and other common iterative approaches used with lists.\n",
    "\n"
   ]
  },
  {
   "cell_type": "markdown",
   "metadata": {},
   "source": [
    "## 0: Understanding the Importance of Iteration \n",
    "\n",
    "Let's say we've got a Python list containing HBCUs, and our goal is to display them one by one. Sounds easy, doesn't it?"
   ]
  },
  {
   "cell_type": "code",
   "execution_count": null,
   "metadata": {},
   "outputs": [],
   "source": [
    "hbcu_list = ['Hampton', 'Morehouse', 'Howard']\n",
    "print(hbcu_list[0])\n",
    "print(hbcu_list[1])\n",
    "print(hbcu_list[2])"
   ]
  },
  {
   "cell_type": "markdown",
   "metadata": {},
   "source": [
    "Now, think about what happens when we decide to add a few HBCU to the list and want to showcase them too."
   ]
  },
  {
   "cell_type": "code",
   "execution_count": null,
   "metadata": {},
   "outputs": [],
   "source": [
    "hbcu_list = ['Hampton', 'Morehouse', 'Howard']\n",
    "print(hbcu_list[0])\n",
    "print(hbcu_list[1])\n",
    "print(hbcu_list[2])\n",
    "\n",
    "hbcu_list.append('Florida A&M')\n",
    "hbcu_list.append('Tuskegee')\n",
    "hbcu_list.append('Fisk')\n",
    "print(hbcu_list[3])\n",
    "print(hbcu_list[4])\n",
    "print(hbcu_list[5])"
   ]
  },
  {
   "cell_type": "markdown",
   "metadata": {},
   "source": [
    "Still easy to handle, isn't it? However, it becomes challenging if we try to showcase each HBCU in America individually."
   ]
  },
  {
   "cell_type": "code",
   "execution_count": null,
   "metadata": {},
   "outputs": [],
   "source": [
    "hbcu_list = [\n",
    "    'AAMU', 'ASU', 'ASU', 'Alcorn State', 'Allen', 'American Baptist', 'UAPB', 'ABC',\n",
    "    'B-SC', 'Benedict', 'Bennett', 'B-CU', 'Bishop State', 'Bluefield State', 'BSU',\n",
    "    'CC', 'Cheyney', 'Claflin', 'CAU', 'Clinton', 'Coahoma CC', 'Concordia', 'CSU',\n",
    "    'DSU', 'DTC', 'DU', 'UDC', 'EWC', 'ECSU', 'FSU', 'FMU', 'FVSU', 'GSCC', 'GSU',\n",
    "    'Hampton', 'HSSU', 'Hinds CC', 'Hood', 'Howard', 'HTU', 'ITC', 'JFDS', 'JSU',\n",
    "    'JCU', 'JCS', 'KSU', 'KC', 'Lane', 'Langston', 'LSCC', 'LOC', 'LCB', 'LU',\n",
    "    'LU', 'Livingstone', 'UMES', 'Meharry', 'Miles', 'MSL', 'MVSU', 'Morehouse',\n",
    "    'MSM', 'Morgan State', 'MBC', 'MC', 'NSU', 'NCAT', 'NCCU', 'Oakwood', 'PC',\n",
    "    'PQC', 'Payne', 'PSC', 'Philander Smith', 'PVAMU', 'Rust', 'SPC', 'SSC',\n",
    "    'Savannah State', 'Selma', 'Shaw', 'SSCC', 'Shorter', 'Simmons', 'SCSU',\n",
    "    'SUNO', 'SUSLA', 'SU', 'SCC', 'Spelman', 'SAU', 'SPC', 'Stillman', 'Talladega',\n",
    "    'TSU', 'TC', 'TSU', 'Trenholm State', 'Tuskegee', 'UVI', 'VSU', 'VUU', 'VUL',\n",
    "    'Voorhees', 'WVSU', 'Wilberforce', 'Wiley', 'WSSU', 'XULA'\n",
    "]\n"
   ]
  },
  {
   "cell_type": "markdown",
   "metadata": {},
   "source": [
    "Using square bracket notation to show each value separately becomes impractical.\n",
    "\n",
    "So, we need a more practical solution..."
   ]
  },
  {
   "cell_type": "markdown",
   "metadata": {},
   "source": [
    "## 1: Fundamentals of Iterating Through Lists\n",
    "\n",
    "In Python, a `for` loop is commonly used to iterate over elements in a list. \n",
    "\n",
    "This loop is convenient for performing repetitive tasks on each item in the list. \n",
    "\n",
    "Let's explore the three common methods for iterating over a list, step by step, using a `for` loop.\n",
    "\n",
    "### Method 01: Basic Syntax"
   ]
  },
  {
   "cell_type": "code",
   "execution_count": null,
   "metadata": {},
   "outputs": [],
   "source": [
    "# Sample Code\n",
    "hbcu_list = ['Hampton', 'Morehouse', 'Howard', 'Florida A&M', 'Tuskegee', 'Fisk']\n",
    "\n",
    "# Iterate over the list and print each HBCU\n",
    "for hbcu in hbcu_list:\n",
    "\n",
    "    print(f\"Current HBCU: {hbcu}\")\n"
   ]
  },
  {
   "cell_type": "markdown",
   "metadata": {},
   "source": [
    "The `for` loop goes through each element in the list, and the variable `hbcu` gets the value of each element during every iteration."
   ]
  },
  {
   "cell_type": "markdown",
   "metadata": {},
   "source": [
    "### Method 02: Index-based Iteration:\n",
    "\n",
    "An alternative approach is to use the `len()` function for index-based iteration:"
   ]
  },
  {
   "cell_type": "code",
   "execution_count": null,
   "metadata": {},
   "outputs": [],
   "source": [
    "# Sample Code\n",
    "hbcu_list = ['Hampton', 'Morehouse', 'Howard', 'Florida A&M', 'Tuskegee', 'Fisk']\n",
    "\n",
    "for index in range(len(hbcu_list)):\n",
    "\n",
    "    hbcu = hbcu_list[index]\n",
    "\n",
    "    print(f\"Index: {index}, Value: {hbcu}\")\n"
   ]
  },
  {
   "cell_type": "markdown",
   "metadata": {},
   "source": [
    "This is similar to how a standard 'for' loop works. It starts at 0 and goes up to, but not including, the length of the list.\n",
    "\n",
    "We use this index value to access the list and save it in a separate variable. \n",
    "\n",
    "The advantage of this method is that we can use the index for different calculations, such as removing or modifying specific positions in the list."
   ]
  },
  {
   "cell_type": "markdown",
   "metadata": {},
   "source": [
    "### Method 03: enumerate\n",
    "\n",
    "By using `enumerate` instead of `range,` we make the code simpler. `enumerate` directly gives us both the index and the corresponding value from the list in each loop iteration.\n",
    "\n",
    "Here's the previous example using `enumerate`.\n"
   ]
  },
  {
   "cell_type": "code",
   "execution_count": null,
   "metadata": {},
   "outputs": [],
   "source": [
    "# Sample Code\n",
    "hbcu_list = ['Hampton', 'Morehouse', 'Howard', 'Florida A&M', 'Tuskegee', 'Fisk']\n",
    "\n",
    "for index, hbcu in enumerate(hbcu_list):\n",
    "\n",
    "    print(f\"Index: {index}, Value: {hbcu}\")\n"
   ]
  },
  {
   "cell_type": "markdown",
   "metadata": {},
   "source": [
    "## 2: Exploring Key Iterative Techniques for Lists\n",
    "\n",
    "Frequently, lists are employed for a variety of calculations, mutations, and processing tasks.\n",
    "\n",
    "Now, let's explore a few examples."
   ]
  },
  {
   "cell_type": "markdown",
   "metadata": {},
   "source": [
    "### Performing Calculations with a List\n",
    "\n",
    "A `for` loop is a powerful tool for performing calculations on a list of values.\n",
    "\n",
    "Let's say you're a programmer on the Amazon Go team, contributing to a cashier-less supermarket that relies on RFID tags to track customers' purchases by what they take out of the store.\n",
    "\n",
    "Your job is to develop a program that computes the total price of the items customers took with them."
   ]
  },
  {
   "cell_type": "code",
   "execution_count": null,
   "metadata": {},
   "outputs": [],
   "source": [
    "prices = [2.5, 3.0, 1.8, 4.5, 2.2, 5.7, 3.8, 6.2, 2.9, 4.0, 7.5, 3.5, 5.0, 1.5, 8.0]\n",
    "\n",
    "total_price = 0\n",
    "\n",
    "# Use a for loop to iterate through each price and calculate the total\n",
    "for price in prices:\n",
    "\n",
    "    total_price += price\n",
    "\n",
    "print(f'The total price (before tax) to pay is: ${total_price:.2f}')"
   ]
  },
  {
   "cell_type": "markdown",
   "metadata": {},
   "source": [
    "Without a `for` loop, doing this straightforward calculation would become quite tedious and time-consuming."
   ]
  },
  {
   "cell_type": "markdown",
   "metadata": {},
   "source": [
    "### Modifying a List\n",
    "\n",
    "A `for` loop is handy for changing (modifying) the elements in a list.\n",
    "\n",
    "Suppose we aim to transform all HBCU names to uppercase:"
   ]
  },
  {
   "cell_type": "code",
   "execution_count": null,
   "metadata": {},
   "outputs": [],
   "source": [
    "hbcu_list = ['Hampton', 'Morehouse', 'Howard', 'Florida A&M', 'Tuskegee', 'Fisk']\n",
    "\n",
    "print(\"Unmutated List:\", hbcu_list)\n",
    "\n",
    "# Mutate the list by converting abbreviations to uppercase\n",
    "for index in range(len(hbcu_list)):\n",
    "\n",
    "    hbcu_list[index] = hbcu_list[index].upper()\n",
    "\n",
    "print(\"Mutated List:\", hbcu_list)\n"
   ]
  },
  {
   "cell_type": "markdown",
   "metadata": {},
   "source": [
    "### Working with a List\n",
    "\n",
    "`for` loops also help us navigate through a list to identify specific values.\n",
    "\n",
    "Imagine having a strong interest in even numbers. \n",
    "\n",
    "We're so captivated by them that we want to eliminate all the odd numbers from a list."
   ]
  },
  {
   "cell_type": "code",
   "execution_count": 8,
   "metadata": {},
   "outputs": [
    {
     "name": "stdout",
     "output_type": "stream",
     "text": [
      "[2, 8, 14, 20, 26, 32, 38]\n"
     ]
    }
   ],
   "source": [
    "numbers = [2, 5, 8, 11, 14, 17, 20, 23, 26, 29, 32, 35, 38]\n",
    "\n",
    "evens = []\n",
    "\n",
    "def isEven(n):\n",
    "    '''Helper function to identify even numbers'''\n",
    "    if n % 2 == 0:\n",
    "        return True\n",
    "\n",
    "    return False\n",
    "\n",
    "for num in numbers:\n",
    "    if isEven(num):\n",
    "        evens.append(num)\n",
    "\n",
    "print(evens)"
   ]
  }
 ],
 "metadata": {
  "kernelspec": {
   "display_name": "Python 3",
   "language": "python",
   "name": "python3"
  },
  "language_info": {
   "codemirror_mode": {
    "name": "ipython",
    "version": 3
   },
   "file_extension": ".py",
   "mimetype": "text/x-python",
   "name": "python",
   "nbconvert_exporter": "python",
   "pygments_lexer": "ipython3",
   "version": "3.11.7"
  }
 },
 "nbformat": 4,
 "nbformat_minor": 2
}
