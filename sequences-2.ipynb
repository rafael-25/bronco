{
 "cells": [
  {
   "cell_type": "markdown",
   "metadata": {},
   "source": [
    "## Big Idea 3: Algorithms & Programming\n",
    "\n",
    "### Essential Questions:\n",
    "\n",
    "- How does using data structures strategically improve how information is organized and represented? \n",
    "\n",
    "- What impact does this have on making programming problem-solving more efficient and effective?\n",
    "\n",
    "### Students will be able to:\n",
    "\n",
    "- Explain the need for iteration when working with lists.\n",
    "\n",
    "- Create programs that iterate through a list to modify or process each value.\n",
    "\n",
    "- Develop the skill to predict the program output after applying various list methods, emphasizing how these methods alter the list structure.\n",
    "\n",
    "## Agenda:\n",
    "\n",
    "Today's Topics:\n",
    "\n",
    "- **0: Understanding the Importance of Iteration**\n",
    "  - Recognize the necessity of iteration for manipulating lists.\n",
    "\n",
    "- **1: Fundamentals of Iterating Through Lists**\n",
    "  - Acquire foundational knowledge of creating and working with lists in the Python programming language.\n",
    "\n",
    "- **2: Exploring Key Iterative Techniques for Lists**\n",
    "  - Dive into the concept of indexing and other common iterative approaches used with lists.\n",
    "\n",
    "- **3: The Sprinter's Dilemma**\n",
    "  - Implement three functions to assist a sprinter in processing a list of sprint times.\n",
    "\n"
   ]
  },
  {
   "cell_type": "markdown",
   "metadata": {},
   "source": [
    "## 0: Understanding the Importance of Iteration \n",
    "\n",
    "Let's say we've got a Python list containing HBCUs, and our goal is to display them one by one. Sounds easy, doesn't it?"
   ]
  },
  {
   "cell_type": "code",
   "execution_count": null,
   "metadata": {},
   "outputs": [],
   "source": [
    "hbcu_list = ['Hampton', 'Morehouse', 'Howard']\n"
   ]
  },
  {
   "cell_type": "markdown",
   "metadata": {},
   "source": [
    "Now, think about what happens when we decide to add a few HBCU to the list and want to showcase them too.\n",
    "\n",
    "**Note:** Uncomment the print statements and run the program to observe the size of the list growing."
   ]
  },
  {
   "cell_type": "code",
   "execution_count": null,
   "metadata": {},
   "outputs": [],
   "source": [
    "hbcu_list = ['Hampton', 'Morehouse', 'Howard']\n",
    "#print(hbcu_list, len(hbcu_list))\n",
    "\n",
    "hbcu_list.append('Florida A&M')\n",
    "#print(hbcu_list, len(hbcu_list))\n",
    "\n",
    "hbcu_list.append('Tuskegee')\n",
    "#print(hbcu_list, len(hbcu_list))\n",
    "\n",
    "hbcu_list.append('Fisk')\n",
    "#print(hbcu_list, len(hbcu_list))\n",
    "\n",
    "# Display the entire contents of the list, one by one"
   ]
  },
  {
   "cell_type": "markdown",
   "metadata": {},
   "source": [
    "Still easy to handle, isn't it? However, it becomes challenging if we try to showcase each HBCU in America individually."
   ]
  },
  {
   "cell_type": "code",
   "execution_count": null,
   "metadata": {},
   "outputs": [],
   "source": [
    "hbcu_list = [\n",
    "    'AAMU', 'ASU', 'ASU', 'Alcorn State', 'Allen', 'American Baptist', 'UAPB', 'ABC',\n",
    "    'B-SC', 'Benedict', 'Bennett', 'B-CU', 'Bishop State', 'Bluefield State', 'BSU',\n",
    "    'CC', 'Cheyney', 'Claflin', 'CAU', 'Clinton', 'Coahoma CC', 'Concordia', 'CSU',\n",
    "    'DSU', 'DTC', 'DU', 'UDC', 'EWC', 'ECSU', 'FSU', 'FMU', 'FVSU', 'GSCC', 'GSU',\n",
    "    'Hampton', 'HSSU', 'Hinds CC', 'Hood', 'Howard', 'HTU', 'ITC', 'JFDS', 'JSU',\n",
    "    'JCU', 'JCS', 'KSU', 'KC', 'Lane', 'Langston', 'LSCC', 'LOC', 'LCB', 'LU',\n",
    "    'LU', 'Livingstone', 'UMES', 'Meharry', 'Miles', 'MSL', 'MVSU', 'Morehouse',\n",
    "    'MSM', 'Morgan State', 'MBC', 'MC', 'NSU', 'NCAT', 'NCCU', 'Oakwood', 'PC',\n",
    "    'PQC', 'Payne', 'PSC', 'Philander Smith', 'PVAMU', 'Rust', 'SPC', 'SSC',\n",
    "    'Savannah State', 'Selma', 'Shaw', 'SSCC', 'Shorter', 'Simmons', 'SCSU',\n",
    "    'SUNO', 'SUSLA', 'SU', 'SCC', 'Spelman', 'SAU', 'SPC', 'Stillman', 'Talladega',\n",
    "    'TSU', 'TC', 'TSU', 'Trenholm State', 'Tuskegee', 'UVI', 'VSU', 'VUU', 'VUL',\n",
    "    'Voorhees', 'WVSU', 'Wilberforce', 'Wiley', 'WSSU', 'XULA'\n",
    "]\n"
   ]
  },
  {
   "cell_type": "markdown",
   "metadata": {},
   "source": [
    "Using square bracket notation to show each value separately becomes impractical.\n",
    "\n",
    "So, we need a more practical solution..."
   ]
  },
  {
   "cell_type": "markdown",
   "metadata": {},
   "source": [
    "## 1: Fundamentals of Iterating Through Lists\n",
    "\n",
    "In Python, a `for` loop is commonly used to iterate over elements in a list. \n",
    "\n",
    "This loop is convenient for performing repetitive tasks on each item in the list. \n",
    "\n",
    "Let's explore the three common methods for iterating over a list, step by step, using a `for` loop.\n",
    "\n",
    "### [Method 01: Basic Syntax](https://pythontutor.com/render.html#code=%23%20Sample%20Code%0Ahbcu_list%20%3D%20%5B'Hampton',%20'Morehouse',%20'Howard',%20'Florida%20A%26M',%20'Tuskegee',%20'Fisk'%5D%0A%0A%23%20Iterate%20over%20the%20list%20and%20print%20each%20HBCU%0Afor%20hbcu%20in%20hbcu_list%3A%0A%0A%20%20%20%20print%28f%22Current%20HBCU%3A%20%7Bhbcu%7D%22%29&cumulative=false&curInstr=0&heapPrimitives=nevernest&mode=display&origin=opt-frontend.js&py=311&rawInputLstJSON=%5B%5D&textReferences=false)"
   ]
  },
  {
   "cell_type": "code",
   "execution_count": null,
   "metadata": {},
   "outputs": [],
   "source": [
    "# Sample Code\n",
    "hbcu_list = ['Hampton', 'Morehouse', 'Howard', 'Florida A&M', 'Tuskegee', 'Fisk']\n",
    "\n",
    "# Iterate over the list and print each HBCU\n",
    "for hbcu in hbcu_list:\n",
    "\n",
    "    print(f\"Current HBCU: {hbcu}\")\n"
   ]
  },
  {
   "cell_type": "markdown",
   "metadata": {},
   "source": [
    "The `for` loop goes through each element in the list, and the variable `hbcu` gets the value of each element during every iteration."
   ]
  },
  {
   "cell_type": "markdown",
   "metadata": {},
   "source": [
    "### [Method 02: Index-based Iteration:](https://pythontutor.com/render.html#code=%23%20Sample%20Code%0Ahbcu_list%20%3D%20%5B'Hampton',%20'Morehouse',%20'Howard',%20'Florida%20A%26M',%20'Tuskegee',%20'Fisk'%5D%0A%0Afor%20index%20in%20range%28len%28hbcu_list%29%29%3A%0A%0A%20%20%20%20hbcu%20%3D%20hbcu_list%5Bindex%5D%0A%0A%20%20%20%20print%28f%22Index%3A%20%7Bindex%7D,%20Value%3A%20%7Bhbcu%7D%22%29&cumulative=false&curInstr=0&heapPrimitives=nevernest&mode=display&origin=opt-frontend.js&py=311&rawInputLstJSON=%5B%5D&textReferences=false)\n",
    "\n",
    "An alternative approach is to use the `len()` function for index-based iteration:"
   ]
  },
  {
   "cell_type": "code",
   "execution_count": null,
   "metadata": {},
   "outputs": [],
   "source": [
    "# Sample Code\n",
    "hbcu_list = ['Hampton', 'Morehouse', 'Howard', 'Florida A&M', 'Tuskegee', 'Fisk']\n",
    "\n",
    "for index in range(len(hbcu_list)):\n",
    "\n",
    "    hbcu = hbcu_list[index]\n",
    "\n",
    "    print(f\"Index: {index}, Value: {hbcu}\")\n"
   ]
  },
  {
   "cell_type": "markdown",
   "metadata": {},
   "source": [
    "This is similar to how a standard 'for' loop works. It starts at 0 and goes up to, but not including, the length of the list.\n",
    "\n",
    "We use this index value to access the list and save it in a separate variable. \n",
    "\n",
    "The advantage of this method is that we can use the index for different calculations, such as removing or modifying specific positions in the list."
   ]
  },
  {
   "cell_type": "markdown",
   "metadata": {},
   "source": [
    "#### Aside: Out of Bounds – That's a Problem!\n",
    "\n",
    "When using a for loop, ensure that you don't unintentionally create an **IndexError**.\n",
    "\n",
    "This occurs when the range function iterates over values that are not proper indices."
   ]
  },
  {
   "cell_type": "code",
   "execution_count": null,
   "metadata": {},
   "outputs": [],
   "source": [
    "animal_list = ['lion', 'elephant', 'zebra', 'giraffe', 'cheetah']\n",
    "\n",
    "for i in range(len(animal_list) + 1):  # Adding 1 to the length intentionally\n",
    "\n",
    "    print(animal_list[i])\n"
   ]
  },
  {
   "cell_type": "markdown",
   "metadata": {},
   "source": [
    "### [Method 03: enumerate](https://pythontutor.com/render.html#code=%23%20Sample%20Code%0Ahbcu_list%20%3D%20%5B'Hampton',%20'Morehouse',%20'Howard',%20'Florida%20A%26M',%20'Tuskegee',%20'Fisk'%5D%0A%0Afor%20index,%20hbcu%20in%20enumerate%28hbcu_list%29%3A%0A%0A%20%20%20%20print%28f%22Index%3A%20%7Bindex%7D,%20Value%3A%20%7Bhbcu%7D%22%29&cumulative=false&curInstr=0&heapPrimitives=nevernest&mode=display&origin=opt-frontend.js&py=311&rawInputLstJSON=%5B%5D&textReferences=false)\n",
    "\n",
    "By using `enumerate` instead of `range,` we make the code simpler. `enumerate` directly gives us both the index and the corresponding value from the list in each loop iteration.\n",
    "\n",
    "Here's the previous example using `enumerate`.\n"
   ]
  },
  {
   "cell_type": "code",
   "execution_count": null,
   "metadata": {},
   "outputs": [],
   "source": [
    "# Sample Code\n",
    "hbcu_list = ['Hampton', 'Morehouse', 'Howard', 'Florida A&M', 'Tuskegee', 'Fisk']\n",
    "\n",
    "for index, hbcu in enumerate(hbcu_list):\n",
    "\n",
    "    print(f\"Index: {index}, Value: {hbcu}\")\n"
   ]
  },
  {
   "cell_type": "markdown",
   "metadata": {},
   "source": [
    "## 2: Exploring Key Iterative Techniques for Lists\n",
    "\n",
    "Frequently, lists are employed for a variety of calculations, mutations, and processing tasks.\n",
    "\n",
    "Now, let's explore a few examples."
   ]
  },
  {
   "cell_type": "markdown",
   "metadata": {},
   "source": [
    "### Performing Calculations with a List\n",
    "\n",
    "A `for` loop is a powerful tool for performing calculations on a list of values.\n",
    "\n",
    "Let's say you're a programmer on the Amazon Go team, contributing to a cashier-less supermarket that relies on RFID tags to track customers' purchases by what they take out of the store.\n",
    "\n",
    "Your job is to develop a program that computes the total price of the items customers took with them."
   ]
  },
  {
   "cell_type": "code",
   "execution_count": null,
   "metadata": {},
   "outputs": [],
   "source": [
    "prices = [2.5, 3.0, 1.8, 4.5, 2.2, 5.7, 3.8, 6.2, 2.9, 4.0, 7.5, 3.5, 5.0, 1.5, 8.0]\n",
    "\n",
    "total_price = 0\n",
    "\n",
    "# Use a for loop to iterate through each price and calculate the total\n",
    "for price in prices:\n",
    "\n",
    "    total_price += price\n",
    "\n",
    "print(f'The total price (before tax) to pay is: ${total_price:.2f}')"
   ]
  },
  {
   "cell_type": "markdown",
   "metadata": {},
   "source": [
    "Without a `for` loop, doing this straightforward calculation would become quite tedious and time-consuming."
   ]
  },
  {
   "cell_type": "markdown",
   "metadata": {},
   "source": [
    "### Modifying a List\n",
    "\n",
    "A `for` loop is handy for changing (modifying) the elements in a list.\n",
    "\n",
    "Suppose we aim to transform all HBCU names to uppercase:"
   ]
  },
  {
   "cell_type": "code",
   "execution_count": null,
   "metadata": {},
   "outputs": [],
   "source": [
    "hbcu_list = ['Hampton', 'Morehouse', 'Howard', 'Florida A&M', 'Tuskegee', 'Fisk']\n",
    "\n",
    "print(\"Unmutated List:\", hbcu_list)\n",
    "\n",
    "# Mutate the list by converting abbreviations to uppercase\n",
    "for index in range(len(hbcu_list)):\n",
    "\n",
    "    hbcu_list[index] = hbcu_list[index].upper()\n",
    "\n",
    "print(\"Mutated List:\", hbcu_list)\n"
   ]
  },
  {
   "cell_type": "markdown",
   "metadata": {},
   "source": [
    "#### Aside: [Beware of side effects](https://runestone.academy/ns/books/published/thinkcspy/Lists/UsingListsasParameters.html)\n",
    "\n",
    "Functions which take lists as arguments and change them during execution are called **modifiers** and the changes they make are called **side effects**. \n",
    "\n",
    "- Passing a list as an argument actually passes a reference to the list, not a copy of the list. \n",
    "\n",
    "- Since lists are mutable, changes made to the elements referenced by the parameter change the same list that the argument is referencing. \n",
    "\n",
    "For example, the function below takes a list as an argument and multiplies each element in the list by 2:\n",
    "\n",
    "<iframe width=\"100%\" height=\"500\" frameborder=\"0\" src=\"https://pythontutor.com/iframe-embed.html#code=def%20doubleStuff%28aList%29%3A%0A%20%20%20%20%22%22%22%20Overwrite%20each%20element%20in%20aList%20with%20double%20its%20value.%20%22%22%22%0A%20%20%20%20for%20position%20in%20range%28len%28aList%29%29%3A%0A%20%20%20%20%20%20%20%20aList%5Bposition%5D%20%3D%202%20*%20aList%5Bposition%5D%0A%0Athings%20%3D%20%5B2,%205,%209%5D%0Aprint%28things%29%0AdoubleStuff%28things%29%0Aprint%28things%29&codeDivHeight=400&codeDivWidth=350&cumulative=false&curInstr=0&heapPrimitives=nevernest&origin=opt-frontend.js&py=311&rawInputLstJSON=%5B%5D&textReferences=false\"> </iframe>\n",
    "\n",
    "If our intent is to create an entirely new list, then it is crucial that we either use the `copy` function to create an entirely new list, or we create an empty list and store our modifications there."
   ]
  },
  {
   "cell_type": "markdown",
   "metadata": {},
   "source": [
    "### Processing with a List\n",
    "\n",
    "`for` loops also help us navigate through a list to identify specific values.\n",
    "\n",
    "Imagine having a strong interest in even numbers. \n",
    "\n",
    "We're so captivated by them that we want to eliminate all the odd numbers from a list."
   ]
  },
  {
   "cell_type": "code",
   "execution_count": null,
   "metadata": {},
   "outputs": [],
   "source": [
    "numbers = [2, 5, 8, 11, 14, 17, 20, 23, 26, 29, 32, 35, 38]\n",
    "\n",
    "def is_even(n):\n",
    "    '''Helper function to identify even numbers'''\n",
    "    return n % 2 == 0\n",
    "\n",
    "def evens_only_non_modifier(L):\n",
    "    '''Creates a new list of all even numbers.'''\n",
    "\n",
    "\n",
    "def evens_only_modifier(L):\n",
    "    '''Modifies a list by removing all odd numbers.'''\n"
   ]
  },
  {
   "cell_type": "markdown",
   "metadata": {},
   "source": [
    "## 3: The Sprinter's Dilemma\n",
    "\n",
    "![Sprinter](https://media3.giphy.com/media/THD7thMQZoOYoyZ3EK/200w.gif?cid=82a1493bzvlkf1o5pqy6t6506ddh9cgqsu3zivadrengo0g9&ep=v1_gifs_related&rid=200w.gif&ct=g)\n",
    "\n",
    "Imagine a sprinter who has been diligently practicing for the 100-meter sprint and recording thier times using a not-so-famous brand of smartwatch for 10 sprints.\n",
    "\n",
    "The programs for various computational features of their watch became disrupted due to a malfunction. \n",
    "\n",
    "Your job is to help this sprinter by fixing the programs that deal with the list of times.\n",
    "\n",
    "In groups of three, your task is to implement three functions:\n",
    "\n",
    "- `def average(T):`\n",
    "    - Displays the average time of sprints within the list.\n",
    "\n",
    "- `def fastest(T):`\n",
    "    - Returns the fastest sprint within the list.\n",
    "\n",
    "- `def longest_sprints(T):`\n",
    "    - Returns a list containing the index of the sprints longer than 11.0 seconds flat.  \n",
    "\n",
    "Python comes with a plethora of useful functions that help shorcut many of these implementations. However, that is not the goal. \n",
    "\n",
    "The goal is to use a for loop to accomplish the tasks. Therefore, it is expected that you use the methods outlined within these notes.\n"
   ]
  }
 ],
 "metadata": {
  "kernelspec": {
   "display_name": "Python 3",
   "language": "python",
   "name": "python3"
  },
  "language_info": {
   "codemirror_mode": {
    "name": "ipython",
    "version": 3
   },
   "file_extension": ".py",
   "mimetype": "text/x-python",
   "name": "python",
   "nbconvert_exporter": "python",
   "pygments_lexer": "ipython3",
   "version": "3.11.7"
  }
 },
 "nbformat": 4,
 "nbformat_minor": 2
}
