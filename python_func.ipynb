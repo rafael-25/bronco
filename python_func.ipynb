{
 "cells": [
  {
   "cell_type": "markdown",
   "metadata": {},
   "source": [
    "# Functions\n",
    "\n",
    "A much more powerful programming tool is the ability to create functions.\n",
    "\n",
    "Functions are the underlying mechanisms that allow us to create our own processes.\n",
    "\n",
    "Python comes with a set of [built-in functions](https://docs.python.org/3/library/functions.html):\n",
    "\n",
    "- `print`, `input`, `abs`, `max`, `min`, `round`, etc...\n",
    "\n",
    "Here are some example:"
   ]
  },
  {
   "cell_type": "code",
   "execution_count": null,
   "metadata": {},
   "outputs": [],
   "source": [
    "# The max function\n",
    "x = int(input(\"What is x? \"))\n",
    "y = int(input(\"What is y? \"))\n",
    "\n",
    "print(f\"The max of {x} and {y} is {max(x,y)}.\")\n"
   ]
  },
  {
   "cell_type": "code",
   "execution_count": null,
   "metadata": {},
   "outputs": [],
   "source": [
    "# The round function\n",
    "x = 31.3879822937298723457\n",
    "print(round(x, 3))  # round to 3 decimal places\n"
   ]
  },
  {
   "cell_type": "code",
   "execution_count": null,
   "metadata": {},
   "outputs": [],
   "source": [
    "# The abs function\n",
    "x = -32\n",
    "x = abs(x)\n",
    "print(x)\n"
   ]
  },
  {
   "cell_type": "markdown",
   "metadata": {},
   "source": [
    "### What are some reasons for developing our own functions in Python?\n",
    "\n",
    "- *Type your response here*"
   ]
  },
  {
   "cell_type": "markdown",
   "metadata": {},
   "source": [
    "## Define a function without parameters\n",
    "<iframe width=\"400\" height=\"300\" src=\"https://www.youtube.com/embed/n9aDBOycsCY?si=FTVSe7tK7qPkEchM\" title=\"YouTube video player\" frameborder=\"0\" allow=\"accelerometer; autoplay; clipboard-write; encrypted-media; gyroscope; picture-in-picture; web-share\" allowfullscreen></iframe>\n",
    "\n",
    "### Function syntax\n",
    "\n",
    "```Python\n",
    "def <name>()\n",
    "    <function_body>\n",
    "```\n",
    "- The keyword `def` in Python signifies the creation of a function.\n",
    "\n",
    "- Indentation determines what is included in the function body.\n",
    "\n",
    "- To use a function, you must `call` it by name\n",
    "\n",
    "Practice:\n",
    "\n",
    "- In the code block below create a function called `say_hi()` that displays the message `hello, Bronco!`\n",
    "\n",
    "- `call` the function 3 times"
   ]
  },
  {
   "cell_type": "markdown",
   "metadata": {},
   "source": []
  },
  {
   "cell_type": "markdown",
   "metadata": {},
   "source": [
    "## Defining a function with parameters\n",
    "\n",
    "<iframe width=\"400\" height=\"300\" src=\"https://www.youtube.com/embed/lA9OuhldJd0?si=BNf25qoHiPLQakUB\" title=\"YouTube video player\" frameborder=\"0\" allow=\"accelerometer; autoplay; clipboard-write; encrypted-media; gyroscope; picture-in-picture; web-share\" allowfullscreen></iframe>\n",
    "\n",
    "```Python\n",
    "def <name>(<formal_parameters>)\n",
    "    <function body>\n",
    "```\n",
    "\n",
    "- `formal_parameters` refer to the values we provide as input to the function.\n",
    "\n",
    "- To use a function, you must `call` it by name\n"
   ]
  },
  {
   "cell_type": "code",
   "execution_count": null,
   "metadata": {},
   "outputs": [],
   "source": [
    "# Function to display a value\n",
    "def display(v):\n",
    "    print(f\"The value is {v}.\")\n",
    "\n",
    "display(56)     # Call the display function on 56\n",
    "\n",
    "x = 3\n",
    "\n",
    "display(x)      # Call the display function on x\n"
   ]
  },
  {
   "cell_type": "markdown",
   "metadata": {},
   "source": [
    "### What are some advantages of the above function?\n",
    "\n",
    "- *Type your response here*"
   ]
  },
  {
   "cell_type": "markdown",
   "metadata": {},
   "source": [
    "<iframe width=\"800\" height=\"500\" frameborder=\"0\" src=\"https://pythontutor.com/iframe-embed.html#code=def%20display%28v%29%3A%0A%20%20%20%20print%28f%22The%20value%20is%20%7Bv%7D.%22%29%0A%0Adisplay%2856%29%0A%0Ax%20%3D%203%0A%0Adisplay%28x%29&codeDivHeight=400&codeDivWidth=350&cumulative=false&curInstr=0&heapPrimitives=nevernest&origin=opt-frontend.js&py=3&rawInputLstJSON=%5B%5D&textReferences=false\"> </iframe>"
   ]
  },
  {
   "cell_type": "markdown",
   "metadata": {},
   "source": [
    "## Defining a function that returns\n",
    "\n",
    "```Python\n",
    "def <name>(<formal_parameters>)\n",
    "    return <return_expression>\n",
    "```\n",
    "\n",
    "- The `return` statement is used to yield a value from the function.\n",
    "\n",
    "- To use a function, you must `call` it by name"
   ]
  },
  {
   "cell_type": "code",
   "execution_count": null,
   "metadata": {},
   "outputs": [],
   "source": [
    "\n",
    "# Function to add two numbers\n",
    "def add(num1, num2):\n",
    "    return num1 + num2\n",
    "\n",
    "# Function to multiply two numbers\n",
    "def multiply(num1, num2):\n",
    "    return num1 * num2\n",
    "\n",
    "a = 15\n",
    "b = 10\n",
    "c = add(a, b)       # Call add\n",
    "print(c)\n",
    "\n",
    "d = multiply(c,2)   # Call multiply\n",
    "print(d)\n",
    "\n"
   ]
  },
  {
   "cell_type": "markdown",
   "metadata": {},
   "source": [
    "## Functions can call/return other functions\n",
    "\n",
    "```Python\n",
    "def <name>(<formal_parameters>)\n",
    "    return other_function\n",
    "```\n",
    "\n",
    "- It makes sense to create a `square` function (*for clarity*) that uses the `multiply` function"
   ]
  },
  {
   "cell_type": "code",
   "execution_count": null,
   "metadata": {},
   "outputs": [],
   "source": [
    "# Function to multiply two numbers\n",
    "def multiply(num1, num2):\n",
    "    return num1 * num2\n",
    "\n",
    "# Function to calculate the square of a number using the multiply function\n",
    "def square(num1):\n",
    "    return multiply(num1, num1) # Functions can call other functions!\n",
    "\n",
    "v = 2\n",
    "\n",
    "print(square(v))\n"
   ]
  },
  {
   "cell_type": "markdown",
   "metadata": {},
   "source": [
    "<iframe width=\"800\" height=\"500\" frameborder=\"0\" src=\"https://pythontutor.com/iframe-embed.html#code=def%20multiply%28num1,%20num2%29%3A%0A%20%20%20%20return%20num1%20*%20num2%0A%0Adef%20square%28num1%29%3A%0A%20%20%20%20return%20multiply%28num1,%20num1%29%0A%0Av%20%3D%202%0Aprint%28square%28v%29%29&codeDivHeight=400&codeDivWidth=350&cumulative=false&curInstr=0&heapPrimitives=nevernest&origin=opt-frontend.js&py=3&rawInputLstJSON=%5B%5D&textReferences=false\"> </iframe>"
   ]
  },
  {
   "cell_type": "markdown",
   "metadata": {},
   "source": [
    "### Write your own function.\n",
    "\n",
    "- In the space below, write the implementation of the function called `mul3_add2(n)`.\n",
    "\n",
    "- The function should take a number multiply it by 3, then add 2."
   ]
  },
  {
   "cell_type": "code",
   "execution_count": null,
   "metadata": {},
   "outputs": [],
   "source": [
    "def mul3_add2(n):\n",
    "    # implement here, replace `None` with the appropriate content.\n",
    "    n = None\n",
    "\n",
    "    return None\n",
    "\n",
    "# Do not edit anything below here.\n",
    "a = mul3_add2(6)\n",
    "\n",
    "b = mul3_add2(8)\n",
    "\n",
    "c = mul3_add2(10)\n",
    "\n",
    "# When you run this cell, the output should be `20 26 32`\n",
    "print(a, b, c)\n"
   ]
  },
  {
   "cell_type": "markdown",
   "metadata": {},
   "source": [
    "### Now, complete journal_11 on google classroom."
   ]
  }
 ],
 "metadata": {
  "kernelspec": {
   "display_name": "Python 3",
   "language": "python",
   "name": "python3"
  },
  "language_info": {
   "codemirror_mode": {
    "name": "ipython",
    "version": 3
   },
   "file_extension": ".py",
   "mimetype": "text/x-python",
   "name": "python",
   "nbconvert_exporter": "python",
   "pygments_lexer": "ipython3",
   "version": "3.12.0"
  }
 },
 "nbformat": 4,
 "nbformat_minor": 2
}
