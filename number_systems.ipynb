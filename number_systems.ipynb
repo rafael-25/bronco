{
 "cells": [
  {
   "cell_type": "markdown",
   "metadata": {},
   "source": [
    "# Digital Information Part I\n",
    "\n",
    "### SWBAT:\n",
    "\n",
    "- Explain the importance of Binary numbers in a computing system\n",
    "\n",
    "- Convert between decimal and binary numbers\n",
    "\n",
    "### Agenda:\n",
    "\n",
    "- Number Systems\n",
    "\n",
    "- Binary \n",
    "\n",
    "![Number Systems](https://media.geeksforgeeks.org/wp-content/cdn-uploads/20200918224434/Number-System.png)\n",
    "\n",
    "A number system is like a rulebook for how we write down numbers. It tells us what symbols or digits we can use and what each of these digits means depending on where they are in a number.\n",
    "\n",
    "The most common number system that we use every day is the decimal system. It has ten unique digits: \n",
    "\n",
    "- `0`, `1`, `2`, `3`, `4`, `5`, `6`, `7`, `8`, and `9`. \n",
    "\n",
    "We can create any number we want by combining these ten digits in different ways. How? Well, it's all about place value!\n",
    "\n",
    "Let's take the number [234](https://www.youtube.com/watch?v=G4doTGQPRPw&ab_channel=KhanAcademyComputing), for example. \n",
    "\n",
    "- 234 = (2 * 100) + (3 * 10) + (4 * 1) = (2 * 10^2) + (3 * 10^1) + (4 * 10^0).\n",
    "\n",
    "    - Each digit in the number is related to powers of 10. \n",
    "    \n",
    "    - The last digit, which is 3 in this case, is just 10 to the power of 0, which is always 1.\n",
    "\n",
    "So, 234 is what we call a **base 10** number because each digit's value is determined by multiplying 10 by itself a certain number of times, depending on where the digit is in the number.\n",
    "\n",
    "#### `Aside`: Deconstructing and Reassembling Numbers\n",
    "\n",
    "In the realm of arithmetic, we often encounter situations where we need to manipulate individual digits within a number. \n",
    "\n",
    "Luckily, two fundamental operations, modular arithmetic (`%`) and integer division (`//`), come to our aid, offering elegant solutions for extracting or altering specific digits in base ten numbers.\n",
    "\n",
    "Since we know that base 10 numbers are divisible by 10, we can either integer divide or use moadular arithmetic to extract digits. \n",
    "\n",
    "For example:"
   ]
  },
  {
   "cell_type": "code",
   "execution_count": null,
   "metadata": {},
   "outputs": [],
   "source": [
    "print(234 // 10)\n",
    "\n",
    "print(234 % 10)"
   ]
  },
  {
   "cell_type": "markdown",
   "metadata": {},
   "source": [
    "### Binary Number System\n",
    "\n",
    "In the world of computers, speed is everything. The faster a computer can perform tasks, the better it is for us.\n",
    "\n",
    "Now, instead of using the regular number system we're used to (which is decimal and has 10 digits: 0, 1, 2, 3, 4, 5, 6, 7, 8, 9), computers use Binary. \n",
    "\n",
    "Binary is super simple–it only has two digits: `0` and `1`. You might wonder, why would they pick something with fewer digits? \n",
    "\n",
    "Well, it turns out, this simplicity is what makes computers so fast. With just two digits, they can do calculations really quickly.\n",
    "\n",
    "- [Binary Review](https://www.youtube.com/watch?v=zDNaUi2cjv4&pp=ygUOYmluYXJ5IG51bWJlcnM%3D)\n",
    "\n",
    "#### Abstraction\n",
    "\n",
    "Binary is all about abstraction. We can represent complex information using a simple system. \n",
    "\n",
    "Different combinations of 0's and 1's can be **encoded** to represent data. Let's practice!\n",
    "\n",
    "- [Join this FigJam](https://www.figma.com/file/AHKrw793EPuPRXF9MB16ae/Abstraction-Practice?type=whiteboard&t=zKUxpyJ12iMqEjkg-1)"
   ]
  },
  {
   "cell_type": "markdown",
   "metadata": {},
   "source": [
    "### Decimal ---> Binary\n",
    "\n",
    "Let's watch [this](https://www.youtube.com/watch?time_continue=1&v=1MGBapRPzqE&embeds_referring_euri=https%3A%2F%2Fwww.khanacademy.org%2F&embeds_referring_origin=https%3A%2F%2Fwww.khanacademy.org&feature=emb_logo) video on converting from decimal to binary numbers!\n",
    "\n",
    "Here is a representation of the *base 10* number `169` as a **8-bit** (digit) Binary number\n",
    "\n",
    "| `128` | 64 | `32` | 16 | `8` | 4 | 2 | `1` |\n",
    "|-----|----|----|----|---|---|---|---|\n",
    "|  1  |  0 |  1 |  0 | 1 | 0 | 0 | 1 |\n",
    "\n",
    "Test your Binary Skills!\n",
    "\n",
    "- [Binary Game](https://learningcontent.cisco.com/games/binary/index.html)\n",
    "\n"
   ]
  },
  {
   "cell_type": "markdown",
   "metadata": {},
   "source": [
    "### Sample Scenario\n",
    "\n",
    "Miranda, a teller at Hyde Park Bank, faces a critical glitch in the system. \n",
    "\n",
    "The software fails to accurately convert decimal numbers to binary, causing transaction errors. \n",
    "\n",
    "Miranda requests your help to create a `decimal_to_binary(number)` function to resolve this issue and ensure seamless banking operations.\n",
    "\n",
    "**Task:** Write some pseudo-code that describes how the function should be implemented.\n",
    "\n",
    "- Ex1: `decimal_to_binary(169) RETURNS '10101001'`\n",
    "\n",
    "- Ex2: `decimal_to_binary(54) RETURNS '110110'`\n",
    "\n",
    "- [Join this FigJam](https://www.figma.com/file/v2KydnwJ6d3caopNZlllLF/Decimal-to-Binary?type=whiteboard&node-id=0%3A1&t=ZF2NuoxktQLN9mwx-1)"
   ]
  }
 ],
 "metadata": {
  "kernelspec": {
   "display_name": "Python 3",
   "language": "python",
   "name": "python3"
  },
  "language_info": {
   "codemirror_mode": {
    "name": "ipython",
    "version": 3
   },
   "file_extension": ".py",
   "mimetype": "text/x-python",
   "name": "python",
   "nbconvert_exporter": "python",
   "pygments_lexer": "ipython3",
   "version": "3.11.7"
  }
 },
 "nbformat": 4,
 "nbformat_minor": 2
}
