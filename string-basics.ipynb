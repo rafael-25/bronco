{
 "cells": [
  {
   "cell_type": "markdown",
   "metadata": {},
   "source": [
    "# Strings\n",
    "\n",
    "### Essential Questions:\n",
    "\n",
    "- How does using data structures strategically improve how information is organized and represented? \n",
    "\n",
    "- What impact does this have on making programming problem-solving more efficient and effective?\n",
    "\n",
    "### Students will be able to:\n",
    "\n",
    "- Draw connections between the list and str data types.\n",
    "\n",
    "- Demonstrate the ability to create strings in Python and modify their contents.\n",
    "\n",
    "- Explore the usage of str methods by calling them in practical scenarios.\n",
    "\n",
    "- Develop the skill to predict the program output after applying various str methods, emphasizing how these methods alter the string.\n",
    "\n",
    "Today's Topics:\n",
    "\n",
    "- **0: String Review**\n",
    "  - Exploring the significance of strs in Python.\n",
    "\n",
    "- **1: String indexing**\n",
    "  - Delving into the concept of indexing within strs.\n",
    "\n",
    "- **2: Exploring List Indexing**\n",
    "  - Delving into the concept of indexing within lists.\n",
    "\n",
    "- **3: Exploring Common and Popular str Methods in Python**\n",
    "  - Discovering widely used methods for manipulating lists in Python.\n"
   ]
  },
  {
   "cell_type": "markdown",
   "metadata": {},
   "source": [
    "### 0: String Review\n",
    "\n",
    "Recall that in Python, text is represented as a string:\n",
    "\n",
    "- `\"Kenwood Academy\"`\n",
    "\n",
    "- `\"5015\"`\n",
    "\n",
    "- `\"A+\"`\n",
    "\n",
    "- `\"computer science is awesome\"`\n",
    "\n",
    "A string is any letter, symbol, number or combination of each enclosed in `\"\"` quotes. \n",
    "\n",
    "An *empty* string is a set of quotes that enclose nothing.\n",
    "\n",
    "- `\"\"`\n",
    "\n",
    "We often use strings to present information in the terminal using the `print` or `input` function.\n",
    "\n",
    "However, it is common to create variables that hold string values as well. \n",
    "\n",
    "For example:"
   ]
  },
  {
   "cell_type": "code",
   "execution_count": null,
   "metadata": {},
   "outputs": [],
   "source": [
    "actor = \"Denzel Washington\"\n",
    "date = \"07/01/2024\"\n",
    "grade = \"A -\"\n",
    "hair = \"wavy\""
   ]
  },
  {
   "cell_type": "markdown",
   "metadata": {},
   "source": [
    "### Concatenation\n",
    "\n",
    "Strings are very useful because they can be manipulated. Strings can be *linked* together using a `+` operator.\n",
    "\n",
    "Here is an example of concatenatting two variables, `first_name` and `last_name`, within another string."
   ]
  },
  {
   "cell_type": "code",
   "execution_count": null,
   "metadata": {},
   "outputs": [],
   "source": [
    "first_name = \"Ronald\"\n",
    "last_name = \"McDonald\"\n",
    "sentence = \"Your name is \" + first_name + \" \" + last_name + \".\"\n",
    "\n",
    "print(sentence)"
   ]
  },
  {
   "cell_type": "markdown",
   "metadata": {},
   "source": [
    "### 1: String indexing\n",
    "\n",
    "In most programming languages, each character in a string is *indexed*. This means that each character has a value that is associated with its position in the string.\n",
    "\n",
    "Let's illustrate this concept with a simple example in Python:\n",
    "\n",
    "```Python\n",
    "school = \"Hogwarts\"\n",
    "```\n",
    "\n",
    "In Python, each character of the string is represented by an `index` position.\n",
    "\n",
    "| H | o | g | w | a | r | t | s |\n",
    "|---|---|---|---|---|---|---|---|\n",
    "| `0` | `1` | `2` | `3` | `4` | `5` | `6` | `7` |\n",
    "\n",
    "The initial character of the string is indexed at 0, and each subsequent position is indexed as 1, 2, 3, 4, and so forth.\n",
    "\n",
    "#### `len()`\n",
    "\n",
    "Somewhat intuitively, this leads to the idea that we can count the number of characters in a string. This is known as the length of the string. \n",
    "\n",
    "In Python, there is a built-in function called `len()`. This function *returns* the length of the string as an integer. \n",
    "\n",
    "To utilize the `len()` function, you should enclose a literal string or a string variable within the parentheses.\n",
    "\n",
    "Here is an example:\n"
   ]
  },
  {
   "cell_type": "code",
   "execution_count": null,
   "metadata": {},
   "outputs": [],
   "source": [
    "school = \"Hogwarts\"\n",
    "\n",
    "size = len(school)\n",
    "\n",
    "print(size)"
   ]
  },
  {
   "cell_type": "markdown",
   "metadata": {},
   "source": [
    "When determining the length of a string, there are a few caveats to keep in mind:\n",
    "\n",
    "- The length of an empty string is zero.\n",
    "\n",
    "- Spaces and symbols, if enclosed within quotes, contribute to the length of the string.\n",
    "\n",
    "- The length of a string is always 1 greater than the index of its last character, unless it is an empty string."
   ]
  },
  {
   "cell_type": "markdown",
   "metadata": {},
   "source": [
    "## Slicing\n",
    "\n",
    "To create a substring, we can use bracket notation to slice the string into pieces.\n",
    "\n",
    "These pieces we create are ephemeral, meaning they only exist at the moment we create them.\n",
    "\n",
    "| Syntax                    | Description                                     |\n",
    "|---------------------------|-------------------------------------------------|\n",
    "| `string[start]`            | Returns the character at the specified index.  |\n",
    "| `string[start:end]`        | Returns the substring from start to end-1.      |\n",
    "| `string[:end]`             | Returns the substring from the beginning to end-1.|\n",
    "| `string[start:]`           | Returns the substring from start to the end.    |\n",
    "| `string[start:end:step]`   | Returns characters with a specific step size.  |\n",
    "| `string[::-1]`             | Reverses the string.                            |\n"
   ]
  },
  {
   "cell_type": "code",
   "execution_count": null,
   "metadata": {},
   "outputs": [],
   "source": [
    "alphabet = \"abcdefghijklmnopqrstuvwxyz\"\n",
    "\n",
    "print(len(alphabet)) # The length of the alphabet.\n",
    "\n",
    "print(alphabet[len(alphabet) - 1])  # The last index position.\n",
    "\n",
    "print(alphabet[0:3]) # Letters indexed at 0, 1, and 2.\n",
    "\n",
    "print(alphabet[7:10]) # Letters indexed 6, 7, 8 and 9.\n",
    "\n",
    "print(alphabet[0:26:2]) # Letters at every other index.\n",
    "\n",
    "# These slices have no impact on the original string\n",
    "print(alphabet)"
   ]
  },
  {
   "cell_type": "markdown",
   "metadata": {},
   "source": [
    "## 3: Exploring Common and Popular str Methods in Python\n",
    "\n",
    "Strings are incredibly versatile, offering a variety of functions that perform useful operations on them.\n",
    "\n",
    "For instance, the `upper` method generates a temporary copy of a string with each alphabetical character in uppercase."
   ]
  },
  {
   "cell_type": "code",
   "execution_count": null,
   "metadata": {},
   "outputs": [],
   "source": [
    "s = \"apple sauce\"\n",
    "\n",
    "print(s.upper()) # APPLE SAUCE"
   ]
  },
  {
   "cell_type": "markdown",
   "metadata": {},
   "source": [
    "#### String methods for character testing\n",
    "\n",
    "These string methods can be used to tell if all the characters in the string are of a certain type:\n",
    "\n",
    "| Method Call | Returns                                                 |\n",
    "|-------------|---------------------------------------------------------|\n",
    "| `s.islower()` | True if all the letters in `s` are lowercase (ignoring digits, punctuation, and other non-letters).|\n",
    "| `s.isupper()` | True if all the letters in `s` are uppercase (ignoring digits, punctuation, and other non-letters).|\n",
    "| `s.isalpha()` | True if all the characters in `s` are letters.           |\n",
    "| `s.isdigit()` | True if all the characters in `s` are digits.            |\n",
    "| `s.isspace()` | True if all the characters in `s` are whitespace (like space, tab, and newline).|\n",
    "\n",
    "For example:"
   ]
  },
  {
   "cell_type": "code",
   "execution_count": null,
   "metadata": {},
   "outputs": [],
   "source": [
    "print('this works?'.islower()) # True\n",
    "print('THIS, too??'.isupper()) # False\n",
    "print('this works?'.isalpha()) # False\n",
    "print('12345678900'.isdigit()) # True\n",
    "print('           '.isspace()) # True"
   ]
  },
  {
   "cell_type": "markdown",
   "metadata": {},
   "source": [
    "#### String methods to edit\n",
    "\n",
    "These string methods create and return a new string with some edit of the original string:\n",
    "\n",
    "| Method Call        | Returns                                                                         |\n",
    "|--------------------|---------------------------------------------------------------------------------|\n",
    "| `s.lower()`        | A new string with all letters in lowercase (non-letters remain unchanged). Example: `'Ab5'.lower()` returns `'ab5'`.|\n",
    "| `s.upper()`        | A new string with all letters in uppercase (non-letters remain unchanged). Example: `'Ab5'.upper()` returns `'AB5'`.|\n",
    "| `s.replace(old, new)` | A new string where every occurrence of substring `old` in `s` is replaced by string `new`. |\n",
    "\n"
   ]
  },
  {
   "cell_type": "code",
   "execution_count": null,
   "metadata": {},
   "outputs": [],
   "source": [
    "print('Dogs like cats and cats like dogs!'.replace('like', 'love'))"
   ]
  },
  {
   "cell_type": "markdown",
   "metadata": {},
   "source": [
    "#### Methods for seaching within a string\n",
    "\n",
    "These string methods search a string for one or more occurrences of another string:\n",
    "\n",
    "| Method Call       | Description                                                                                  |\n",
    "|-------------------|----------------------------------------------------------------------------------------------|\n",
    "| `s.count(t)`      | The number of times the string `t` occurs in the string `s`.                                   |\n",
    "| `s.startswith(t)` | True if the string `s` starts with the string `t`, indicating that `t` is a prefix of `s`.     |\n",
    "| `s.endswith(t)`   | True if the string `s` ends with the string `t`, indicating that `t` is a suffix of `s`.       |\n",
    "| `s.find(t)`       | The starting index of the first occurrence of `t` in `s`, or -1 if `t` is not in `s`.         |\n",
    "| `s.index(t)`      | Similar to `s.find(t)` if `t` is in `s`. However, if `t` is not in `s`, it crashes instead of returning -1. We recommend using `s.find(t)` to avoid crashes.|\n",
    "\n",
    "For example:"
   ]
  },
  {
   "cell_type": "code",
   "execution_count": null,
   "metadata": {},
   "outputs": [],
   "source": [
    "print('Abracadabra'.count('br'))         # 2\n",
    "print('Abracadabra'.startswith('Abra'))  # True\n",
    "print('Abracadabra'.endswith('Abra'))    # False\n",
    "print('Abracadabra'.find('br'))          # 1\n",
    "print('Abracadabra'.find('rb'))          # -1\n",
    "print('Abracadabra'.index('br'))         # 1\n",
    "print('Abracadabra'.index('rb'))         # Crash!"
   ]
  },
  {
   "cell_type": "markdown",
   "metadata": {},
   "source": [
    "## Looping over strings\n",
    "\n",
    "We can iterate over a string and perform operations using a `for` loop.\n",
    "\n",
    "Can you predict what the following code segment does?\n"
   ]
  },
  {
   "cell_type": "code",
   "execution_count": null,
   "metadata": {},
   "outputs": [],
   "source": [
    "word = \"Python\"\n",
    "for letter in word:\n",
    "    print(letter)"
   ]
  },
  {
   "cell_type": "markdown",
   "metadata": {},
   "source": [
    "As you might have guessed, the `for` loop iterates over the string `\"Python\"` and prints each letter, one at a time.\n",
    "\n",
    "This approach of looping over the string is very Pythonic. \n",
    "\n",
    "In most programming languages, it is necessary to use indexing/slicing syntax.\n",
    "\n",
    "This requires a slightly modified approach:\n"
   ]
  },
  {
   "cell_type": "code",
   "execution_count": null,
   "metadata": {},
   "outputs": [],
   "source": [
    "word = \"Python\"\n",
    "for i in range(len(word)):\n",
    "    print(i, word[i])"
   ]
  },
  {
   "cell_type": "markdown",
   "metadata": {},
   "source": [
    "How does this code segment work?\n",
    "\n",
    "- We use `range(len(s))`, which includes the integers from 0 up to but not including `len(word)`. \n",
    "\n",
    "    - These are the legal index values for word.\n",
    "\n",
    "- The looping variable is `i`, which is also the index into word.\n",
    "\n",
    "- We use `word[i]` to access each character in word.\n"
   ]
  }
 ],
 "metadata": {
  "kernelspec": {
   "display_name": "Python 3",
   "language": "python",
   "name": "python3"
  },
  "language_info": {
   "codemirror_mode": {
    "name": "ipython",
    "version": 3
   },
   "file_extension": ".py",
   "mimetype": "text/x-python",
   "name": "python",
   "nbconvert_exporter": "python",
   "pygments_lexer": "ipython3",
   "version": "3.11.7"
  }
 },
 "nbformat": 4,
 "nbformat_minor": 2
}
