{
 "cells": [
  {
   "cell_type": "markdown",
   "metadata": {},
   "source": [
    "# Functions\n",
    "\n",
    "A much more powerful programming tool is the ability to create functions.\n",
    "\n",
    "Functions are the underlying mechanisms that allow us to create our own processes.\n",
    "\n",
    "Python comes with a set of [built-in functions](https://docs.python.org/3/library/functions.html):\n",
    "\n",
    "- `print`, `input`, `abs`, `max`, `min`, `round`, etc...\n",
    "\n",
    "Here are some example:"
   ]
  },
  {
   "cell_type": "code",
   "execution_count": 21,
   "metadata": {},
   "outputs": [
    {
     "name": "stdout",
     "output_type": "stream",
     "text": [
      "The max of 5 and 10 is 10.\n",
      "55.874\n",
      "32\n"
     ]
    }
   ],
   "source": [
    "x = 5\n",
    "y = 10\n",
    "\n",
    "print(f\"The max of {x} and {y} is {max(x,y)}.\")\n",
    "\n",
    "x = 31.387\n",
    "y = x - 7.6\n",
    "z = x - ( y + 6.9)\n",
    "\n",
    "print(round(x + y + z, 3))  # round to 3 decimal places\n",
    "\n",
    "\n",
    "x = -32\n",
    "x = abs(x)\n",
    "\n",
    "print(x)\n",
    "\n"
   ]
  },
  {
   "cell_type": "markdown",
   "metadata": {},
   "source": [
    "## How to define a function\n",
    "\n",
    "```Python\n",
    "def <name>(<formal_parameters>)\n",
    "    return <return_expression\n",
    "```"
   ]
  },
  {
   "cell_type": "code",
   "execution_count": 5,
   "metadata": {},
   "outputs": [],
   "source": [
    "\n",
    "# Function to add two numbers\n",
    "def add(num1, num2):\n",
    "    return num1 + num2\n",
    "\n",
    "# Function to multiply two numbers\n",
    "def multiply(num1, num2):\n",
    "    return num1 * num2\n",
    "\n",
    "# Function to calculate the square of a number using the multiply function\n",
    "def square(num1):\n",
    "    return multiply(num1, num1) # Functions can call other functions!\n"
   ]
  },
  {
   "cell_type": "markdown",
   "metadata": {},
   "source": [
    "Some things to note:\n",
    "\n",
    "- The keyword `def` in Python signifies the creation of a function.\n",
    "\n",
    "- `formal_parameters` refer to the values we provide as input to the function.\n",
    "\n",
    "- The `return` statement is used to yield a value from the function.\n",
    "\n",
    "- To use a function, you must `call` it by name"
   ]
  },
  {
   "cell_type": "code",
   "execution_count": 6,
   "metadata": {},
   "outputs": [
    {
     "name": "stdout",
     "output_type": "stream",
     "text": [
      "25\n",
      "150\n"
     ]
    }
   ],
   "source": [
    "a = 15\n",
    "\n",
    "b = 10\n",
    "\n",
    "print(add(a, b))    # call to the add function\n",
    "\n",
    "c = multiply(a, b)  # call the multiply function\n",
    "\n",
    "print(c)\n",
    "\n",
    "d = square(c)       # call to the square function, which then calls the multiply function.\n"
   ]
  },
  {
   "cell_type": "markdown",
   "metadata": {},
   "source": [
    "### Write your own function.\n",
    "\n",
    "In the space below, write the implementation of the function called `mul3_add2(n)`.\n",
    "\n",
    "The function should take a number multiply it by 3, then add 2.\n",
    "\n",
    "It should `return` that value."
   ]
  },
  {
   "cell_type": "code",
   "execution_count": null,
   "metadata": {},
   "outputs": [],
   "source": [
    "def mul3_add2(n):\n",
    "    # implement here, don't forget to return it\n",
    "\n",
    "\n",
    "\n",
    "a = mul3_add2(6) # a = 20\n",
    "\n",
    "print(a)\n",
    "\n",
    "# Use your function at least two additoinal times\n",
    "\n"
   ]
  },
  {
   "cell_type": "markdown",
   "metadata": {},
   "source": [
    "### Now, complete journal_11 on google classroom."
   ]
  }
 ],
 "metadata": {
  "kernelspec": {
   "display_name": "Python 3",
   "language": "python",
   "name": "python3"
  },
  "language_info": {
   "codemirror_mode": {
    "name": "ipython",
    "version": 3
   },
   "file_extension": ".py",
   "mimetype": "text/x-python",
   "name": "python",
   "nbconvert_exporter": "python",
   "pygments_lexer": "ipython3",
   "version": "3.12.0"
  }
 },
 "nbformat": 4,
 "nbformat_minor": 2
}
