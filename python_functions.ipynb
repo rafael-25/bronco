{
 "cells": [
  {
   "cell_type": "markdown",
   "metadata": {},
   "source": [
    "# Functions\n",
    "\n",
    "A much more powerful programming tool is the ability to create functions.\n",
    "\n",
    "Functions are the underlying mechanisms that allow us to create our own processes.\n",
    "\n",
    "Python comes with a set of [built-in functions](https://docs.python.org/3/library/functions.html):\n",
    "\n",
    "- `print`, `input`, `abs`, `max`, `min`, `round`, etc...\n",
    "\n",
    "Here are some example:"
   ]
  },
  {
   "cell_type": "code",
   "execution_count": 21,
   "metadata": {},
   "outputs": [
    {
     "name": "stdout",
     "output_type": "stream",
     "text": [
      "The max of 5 and 10 is 10.\n",
      "55.874\n",
      "32\n"
     ]
    }
   ],
   "source": [
    "x = 5\n",
    "y = 10\n",
    "\n",
    "print(f\"The max of {x} and {y} is {max(x,y)}.\")\n",
    "\n",
    "x = 31.387\n",
    "y = x - 7.6\n",
    "z = x - ( y + 6.9)\n",
    "\n",
    "print(round(x + y + z, 3))  # round to 3 decimal places\n",
    "\n",
    "\n",
    "x = -32\n",
    "x = abs(x)\n",
    "\n",
    "print(x)\n",
    "\n"
   ]
  },
  {
   "cell_type": "markdown",
   "metadata": {},
   "source": [
    "## How to define a function\n",
    "\n",
    "```Python\n",
    "def <name>(<formal_parameters>)\n",
    "    return <return_expression\n",
    "```"
   ]
  },
  {
   "cell_type": "code",
   "execution_count": 9,
   "metadata": {},
   "outputs": [],
   "source": [
    "\n",
    "# Function to add two numbers\n",
    "def add(num1, num2):\n",
    "    return num1 + num2\n",
    "\n",
    "# Function to multiply two numbers\n",
    "def multiply(num1, num2):\n",
    "    return num1 * num2\n",
    "\n",
    "# Function to calculate the square of a number using the multiply function\n",
    "def square(num1):\n",
    "    return multiply(num1, num1) # Functions can call other functions!\n",
    "\n",
    "# Function to display a value\n",
    "def display(v):\n",
    "    print(f\"The value is {v}.\")\n"
   ]
  },
  {
   "cell_type": "markdown",
   "metadata": {},
   "source": [
    "Some things to note:\n",
    "\n",
    "- The keyword `def` in Python signifies the creation of a function.\n",
    "\n",
    "- `formal_parameters` refer to the values we provide as input to the function.\n",
    "\n",
    "- The `return` statement is used to yield a value from the function.\n",
    "\n",
    "- To use a function, you must `call` it by name"
   ]
  },
  {
   "cell_type": "code",
   "execution_count": 10,
   "metadata": {},
   "outputs": [
    {
     "name": "stdout",
     "output_type": "stream",
     "text": [
      "The value is 25.\n",
      "150\n"
     ]
    }
   ],
   "source": [
    "a = 15\n",
    "\n",
    "b = 10\n",
    "\n",
    "c = add(a, b)       # call to the add function\n",
    "\n",
    "display(c)          # call to the display function\n",
    "\n",
    "c = multiply(a, b)  # call the multiply function\n",
    "\n",
    "display(c)          # call to the display function\n",
    "\n",
    "display(square(c))  # call to the display function, which subsequently calls the square function, which in turn calls the multiply function.\n"
   ]
  },
  {
   "cell_type": "markdown",
   "metadata": {},
   "source": [
    "## Python Tutor\n",
    "\n",
    "- Python Tutor is an online platform.\n",
    "\n",
    "- It provides an interactive environment for learning Python programming.\n",
    "\n",
    "- Users can write, run, and debug Python code directly in the browser.\n",
    "\n",
    "- Python Tutor also visualizes the execution of the code step by step, helping users understand the program flow.\n",
    "\n",
    "Here is a vizualization of the program above:\n",
    "\n",
    "<iframe width=\"1200\" height=\"500\" frameborder=\"0\" src=\"https://pythontutor.com/iframe-embed.html#code=%23%20Function%20to%20add%20two%20numbers%0Adef%20add%28num1,%20num2%29%3A%0A%20%20%20%20return%20num1%20%2B%20num2%0A%0A%23%20Function%20to%20multiply%20two%20numbers%0Adef%20multiply%28num1,%20num2%29%3A%0A%20%20%20%20return%20num1%20*%20num2%0A%0A%23%20Function%20to%20calculate%20the%20square%20of%20a%20number%20using%20the%20multiply%20function%0Adef%20square%28num1%29%3A%0A%20%20%20%20return%20multiply%28num1,%20num1%29%20%23%20Functions%20can%20call%20other%20functions!%0A%0A%23%20Function%20to%20display%20a%20value%0Adef%20display%28v%29%3A%0A%20%20%20%20print%28f%22The%20value%20is%20%7Bv%7D.%22%29%0A%0Aa%20%3D%2015%0A%0Ab%20%3D%2010%0A%0Ac%20%3D%20add%28a,%20b%29%20%20%20%20%20%20%20%23%20call%20to%20the%20add%20function%0A%0Adisplay%28c%29%20%20%20%20%20%20%20%20%20%20%23%20call%20to%20the%20display%20function%0A%0Ac%20%3D%20multiply%28a,%20b%29%20%20%23%20call%20the%20multiply%20function%0A%0Adisplay%28c%29%20%20%20%20%20%20%20%20%20%20%23%20call%20to%20the%20display%20function%0A%0Adisplay%28square%28c%29%29%20%20%23%20call%20to%20the%20display%20function,%20which%20subsequently%20calls%20the%20square%20function,%20which%20in%20turn%20calls%20the%20multiply%20function.&codeDivHeight=400&codeDivWidth=350&cumulative=false&curInstr=0&heapPrimitives=nevernest&origin=opt-frontend.js&py=3&rawInputLstJSON=%5B%5D&textReferences=false\"> </iframe>"
   ]
  },
  {
   "cell_type": "markdown",
   "metadata": {},
   "source": [
    "### Write your own function.\n",
    "\n",
    "In the space below, write the implementation of the function called `mul3_add2(n)`.\n",
    "\n",
    "The function should take a number multiply it by 3, then add 2.\n",
    "\n",
    "It should `return` that value."
   ]
  },
  {
   "cell_type": "code",
   "execution_count": null,
   "metadata": {},
   "outputs": [],
   "source": [
    "def mul3_add2(n):\n",
    "    # implement here, don't forget to return it\n",
    "\n",
    "\n",
    "\n",
    "a = mul3_add2(6) # a = 20\n",
    "\n",
    "print(a)\n",
    "\n",
    "# Use your function at least two additoinal times\n",
    "\n"
   ]
  },
  {
   "cell_type": "markdown",
   "metadata": {},
   "source": [
    "### Now, complete journal_11 on google classroom."
   ]
  }
 ],
 "metadata": {
  "kernelspec": {
   "display_name": "Python 3",
   "language": "python",
   "name": "python3"
  },
  "language_info": {
   "codemirror_mode": {
    "name": "ipython",
    "version": 3
   },
   "file_extension": ".py",
   "mimetype": "text/x-python",
   "name": "python",
   "nbconvert_exporter": "python",
   "pygments_lexer": "ipython3",
   "version": "3.12.0"
  }
 },
 "nbformat": 4,
 "nbformat_minor": 2
}
