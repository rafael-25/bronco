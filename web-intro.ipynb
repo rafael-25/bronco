{
 "cells": [
  {
   "cell_type": "markdown",
   "metadata": {},
   "source": [
    "# Web Development\n",
    "\n",
    "## Standards\n",
    "\n",
    "- CSN-1.A Explain how computing devices work together in a network. \n",
    "\n",
    "- CSN-1.B Explain how the Internet works. \n",
    "\n",
    "- CSN-1.D Describe the differences between the Internet and the World Wide Web. \n",
    "\n",
    "## Students will be able to:\n",
    "\n",
    "- Describe the relationship between the Internet and the World Wide Web\n",
    "\n",
    "- Create/markup a Simple HTML Page\n",
    "\n",
    "## The Internet\n",
    "\n",
    "<img src='https://lh3.googleusercontent.com/proxy/ftOqN8RJZ-YhELvDjLygF7u9rvXpJhybUp4LwvN5zagsp4_OwyAc0DJvzQsON1hqlvFRnP5EizL0KXlblMpaepeZddu1ece1vdJXykKatbEUfvnAw5jrKLICH-8R_0_21gT5vauHbouel35Qd5izHc3_MjZQLg' width='250px' height='250px'>\n",
    "\n",
    "<img src='https://www.whatsthehost.com/wp-content/uploads/2020/08/internet.gif' width='400px' height='250px'>\n",
    "\n",
    "The *Internet* is a system if interconnected computer networks operating on the Internet Protocol (IP).\n",
    "\n",
    "Each computer on the internet is assigned a unique IP address, serving as its distinct identifier within the network.\n",
    "\n",
    "- Every IP address is of the form `#.#.#.#`. For instance, Kenwood's IP address is `34.145.177.78`. \n",
    "\n",
    "- Each number is between 0-255, much like an RGB value.\n",
    "\n",
    "- It's common to think of IP addresses like a postal address. \n",
    "\n",
    "### Domain Name Service\n",
    "\n",
    "To find a web page or web site, you need to know it's IP address. \n",
    "\n",
    "However, it wouldn't be convient to find resources online using only an IP address, so we use their `Domain Name` instead. \n",
    "\n",
    "- We access websites using domain names (Facebook.com, Google.com, etc.), but it turns out that these sites too have IP addresses\n",
    "\n",
    "- DNS (Domain Name System) servers convert domain names into IP addresses\n",
    "\n",
    "<iframe width=\"560\" height=\"315\" src=\"https://www.youtube.com/embed/5o8CwafCxnU?si=QEao4M7hEkH6xj-K\" title=\"YouTube video player\" frameborder=\"0\" allow=\"accelerometer; autoplay; clipboard-write; encrypted-media; gyroscope; picture-in-picture; web-share\" allowfullscreen></iframe>"
   ]
  },
  {
   "cell_type": "markdown",
   "metadata": {},
   "source": [
    "## World Wide Web\n",
    "\n",
    "<img src='https://betterworld.mit.edu/wp-content/uploads/2017/03/world-wide-web-01.jpg' width='500px' height='400px'>\n",
    "\n",
    "A common mistake is to think of the Internet itself as the World Wide Web. However, this is not the case. \n",
    "\n",
    "The world wide web is a digital infrastructure of information and the network software used to access it, hosted on the Internet.\n",
    "\n",
    "Navigating the World Wide Web is actually quite common. All you need is a URL.\n",
    "\n",
    "- URL = Uniform Resource Locator\n",
    "\n",
    "    - specifies the `document` to be viewed on the web.\n",
    "\n",
    "    - **Example:** *https://www.kenwoodacademy.org/* \n",
    "\n",
    "### Anatomy of a URL\n",
    "\n",
    "<iframe width=\"560\" height=\"315\" src=\"https://www.youtube.com/embed/5Jr-_Za5yQM?si=JxfHVc1R8QWGiqen\" title=\"YouTube video player\" frameborder=\"0\" allow=\"accelerometer; autoplay; clipboard-write; encrypted-media; gyroscope; picture-in-picture; web-share\" allowfullscreen></iframe>\n",
    "\n",
    "- To read more in detail, visit [here](https://edu.gcfglobal.org/en/internetbasics/understanding-urls/1/)\n",
    "\n",
    "### HTTP and HTTPS\n",
    "\n",
    "Each URL is prefixed with either `http://` or `https://`\n",
    "\n",
    "- Hypertext Transfor Protocol\n",
    "\n",
    "- Hypertext Transfer Protocol Secure\n",
    "\n",
    "<iframe width=\"560\" height=\"315\" src=\"https://www.youtube.com/embed/nOmT_5hqgPk?si=c211KmNCWwUGQ8J6&amp;start=20\" title=\"YouTube video player\" frameborder=\"0\" allow=\"accelerometer; autoplay; clipboard-write; encrypted-media; gyroscope; picture-in-picture; web-share\" allowfullscreen></iframe>\n",
    "\n",
    "Anythime you submit a URL into Google or any Web browser, you're essentially sending a `request` from your device to some remote `web server` that then returns a web document, or an HTML page.\n",
    "\n",
    "The main job of a web server is to display website content through storing, processing and delivering webpages to users.\n",
    "\n",
    "<img src='https://o.aolcdn.com/hss/storage/midas/c4ffd6e734b74ca2a7afac615a9cc603/202504538/google-servers-2015-08-20-01.jpg' width='800px' height='500px'>\n",
    "\n",
    "## HTML\n",
    "\n",
    "<img src='https://www.w3schools.com/html/img_notepad.png'>\n",
    "\n",
    "The langauge that builds websites is HTML (HyperText Markup Langauge)\n",
    "\n",
    "- When you request a web page from a server, that server responds with an HTML document (web page).\n",
    "\n",
    "- Web pages are much like Word or Google documents–simply `marked up` text.\n",
    "\n",
    "- Web pages are saved using the file extension `.html`.\n",
    "\n",
    "- Web pages use `links` to connect between one web page and another.\n",
    "\n",
    "HTML is NOT a programming language. It does not allow for loops or conditions like Python. It is specifally used to add meaning and semantic structure to a web page.\n",
    "\n",
    "A `web site` is a group of accessible, interlinked web pages under a single IP address accessible though a web browser. For examples:\n",
    "\n",
    "- *Meta*\n",
    "\n",
    "- *Tik Tok*\n",
    "\n",
    "- *Yahoo!*\n",
    "\n",
    "- etc..."
   ]
  },
  {
   "cell_type": "markdown",
   "metadata": {},
   "source": [
    "## The Anatomy of a Web Page\n",
    "\n",
    "Again, HTML stands for **H**yper**T**ext **M**arkup **L**anguage. Hypertext is text that includes hyperlinks to other web pages, assets or files.\n",
    "\n",
    "A Markup Langauge allows you to use `tags` to *mark up* or annotate the contents of a web document. \n",
    "\n",
    "- These tags provide extra information about the contents of the page.\n",
    "\n",
    "Just about every HTML tag follows this syntax:\n",
    "\n",
    "<img src='https://encrypted-tbn0.gstatic.com/images?q=tbn:ANd9GcSnEiSmkQP_e8y3livPrdxnydGQki66kzYuCw&usqp=CAU'>\n",
    "\n",
    "### Basic Web Page Structure"
   ]
  },
  {
   "cell_type": "code",
   "execution_count": null,
   "metadata": {
    "vscode": {
     "languageId": "html"
    }
   },
   "outputs": [],
   "source": [
    "<!--This is a comment.-->\n",
    "<!DOCTYPE html>\n",
    "<html lang='en'>\n",
    "    <head>\n",
    "        <title>Page Title</title>\n",
    "\n",
    "        information about the page\n",
    "    </head>\n",
    "\n",
    "    <body>page contents</body>\n",
    "</html>"
   ]
  },
  {
   "cell_type": "markdown",
   "metadata": {},
   "source": [
    "- The `<!DOCTYPE>` tag tells the browser to interpret our page's code as HTML5, the latest/greatest version of the langauge.\n",
    "\n",
    "\n",
    "- the `<head>` tag describes the page and the `<body>` tag contains the page's content.\n",
    "\n",
    "\n",
    "- the `<title>` is the text that appears on the tab of a web page in the browser.\n",
    "\n",
    "- To write a comment in HTML we use an open `<!--` and a close `-->`.\n",
    "\n",
    "Notice that some tags can be **nested** inside of other tags. Generally speaking, most HTML tags you use will be nested inside of others.\n",
    "\n",
    "In terms of spacing, we want to ensure that our HTML is redable even for a novice. Use `style50` as you see fit."
   ]
  },
  {
   "cell_type": "markdown",
   "metadata": {},
   "source": [
    "### Hyperlinks\n",
    "\n",
    "Links can make our pages more dynamic by linking to other pages\n",
    "\n",
    "- `<a></a>` are anchor tags that can be used for links.\n",
    "\n",
    "- `href` (hyper reference) is an `attrinute` that sets where you want the link to go.\n",
    "\n",
    "    - an atribute is additonal information about a tag."
   ]
  },
  {
   "cell_type": "code",
   "execution_count": null,
   "metadata": {
    "vscode": {
     "languageId": "html"
    }
   },
   "outputs": [],
   "source": [
    "<!--This example uses Hyperlinks.-->\n",
    "<!DOCTYPE html>\n",
    "\n",
    "<html lang=\"en\">\n",
    "    <head>\n",
    "        <title>link example</title>\n",
    "    </head>\n",
    "    <body>\n",
    "        <!--NOTE: We 'wrap' that anchor tag around the content.-->\n",
    "        Visit <a href=\"https://www.kenwoodacademy.org/\">Kenwood Academy High School</a>.\n",
    "    </body>\n",
    "</html>"
   ]
  },
  {
   "cell_type": "markdown",
   "metadata": {},
   "source": [
    "### Images\n",
    "\n",
    "The web is filled with images\n",
    "\n",
    "- `<img/>` is the image tag\n",
    "\n",
    "- The `src` (source) attribute is set to the address of the file\n",
    "\n",
    "- The `alt` (alternative text) attribute is what displays if the page can’t be seen\n",
    "\n",
    "- We can also manually configure the size of an image using `width` and `height` attributes."
   ]
  },
  {
   "cell_type": "code",
   "execution_count": null,
   "metadata": {
    "vscode": {
     "languageId": "html"
    }
   },
   "outputs": [],
   "source": [
    "<!--This example uses images.-->\n",
    "<!DOCTYPE html>\n",
    "\n",
    "<html lang=\"en\">\n",
    "    <head>\n",
    "        <title>images</title>\n",
    "    </head>\n",
    "    <body>\n",
    "        <!-- Image from a folder/file.-->\n",
    "        <img alt=\"Kenwood Academy\" src=\"bronco.jpg\"/>\n",
    "\n",
    "        <!-- Image from a web link. Using an image from the web is BAD practice. What happens if the link changes?-->\n",
    "        <img alt=\"Kenwood Academy\" src=\"https://upload.wikimedia.org/wikipedia/en/d/da/Kenwood_Academy_Logo.png\"/>\n",
    "    </body>\n",
    "</html>"
   ]
  },
  {
   "cell_type": "markdown",
   "metadata": {},
   "source": [
    "### Paragraphs\n",
    "\n",
    "Paragraph tags (`<p></p>`) tell the browser to create a paragraph of text. \n",
    "\n",
    "- Even if you add spaces to format paragraphs, HTML will render without them!"
   ]
  },
  {
   "cell_type": "code",
   "execution_count": null,
   "metadata": {
    "vscode": {
     "languageId": "html"
    }
   },
   "outputs": [],
   "source": [
    "<!--This example uses paragraphs.-->\n",
    "<!DOCTYPE html>\n",
    "\n",
    "<html lang=\"en\">\n",
    "    <head>\n",
    "        <title>paragraphs</title>\n",
    "    </head>\n",
    "    <body>\n",
    "\n",
    "        <p>\n",
    "            Kenwood Academy High School,\n",
    "\n",
    "            located in Chicago,\n",
    "\n",
    "            is renowned for its strong academic programs and diverse student body.\n",
    "        </p>\n",
    "\n",
    "        <p>\n",
    "            Kenwood Academy has a reputation for preparing students for success in college and beyond through its rigorous curriculum and supportive community.\n",
    "        </p>\n",
    "    </body>\n",
    "</html>"
   ]
  },
  {
   "cell_type": "markdown",
   "metadata": {},
   "source": [
    "You can also format text using HTML tags to add **bold** or *italicized* words. Here is a table of common formatting tags for text.\n",
    "\n",
    "| Tag          | Description         | Example             |\n",
    "|--------------|---------------------|---------------------|\n",
    "| `<b>`        | Bold text           | `<b>Bold Text</b>`  |\n",
    "| `<strong>`   | Important text      | `<strong>Important Text</strong>` |\n",
    "| `<i>`        | Italic text         | `<i>Italic Text</i>` |\n",
    "| `<em>`       | Emphasized text     | `<em>Emphasized Text</em>` |\n",
    "| `<mark>`     | Marked text         | `<mark>Marked Text</mark>` |\n",
    "| `<small>`    | Smaller text        | `<small>Smaller Text</small>` |\n",
    "| `<del>`      | Deleted text        | `<del>Deleted Text</del>` |\n",
    "| `<ins>`      | Inserted text       | `<ins>Inserted Text</ins>` |\n",
    "| `<sub>`      | Subscript text      | `<sub>Subscript Text</sub>` |\n",
    "| `<sup>`      | Superscript text    | `<sup>Superscript Text</sup>` |\n"
   ]
  },
  {
   "cell_type": "markdown",
   "metadata": {},
   "source": [
    "### Headings\n",
    "\n",
    "`<h1></h1>` are the heading 1 tags. There also exists `<h2></h2>`, `<h3></h3>`, `<h4></h4>`, `<h5></h5>`, and `<h6></h6>`.\n",
    "\n",
    "- Headings get smaller the larger the number.\n",
    "\n",
    "- These make the font larger for usage similar to marking chapters in a book."
   ]
  },
  {
   "cell_type": "code",
   "execution_count": null,
   "metadata": {
    "vscode": {
     "languageId": "html"
    }
   },
   "outputs": [],
   "source": [
    "<!--This example uses headings.-->\n",
    "<!DOCTYPE html>\n",
    "\n",
    "<html lang=\"en\">\n",
    "    <head>\n",
    "        <title>headings</title>\n",
    "    </head>\n",
    "    <body>\n",
    "        <h1>Bronco Pride</h1>\n",
    "\n",
    "        <h2>Bronco Pride.</h2>\n",
    "\n",
    "        <h3>Bronco Pride.</h3>\n",
    "\n",
    "        <h4>Bronco Pride.</h4>\n",
    "\n",
    "        <h5>Bronco Pride.</h5>\n",
    "\n",
    "        <h6>Bronco Pride.</h6>\n",
    "    </body>\n",
    "</html>"
   ]
  },
  {
   "cell_type": "markdown",
   "metadata": {},
   "source": [
    "### Lists\n",
    "\n",
    "Unordered lists uses bullets.\n",
    "\n",
    "- `<ul></ul>`\n",
    "\n",
    "- `<li></li>` are list item tags"
   ]
  },
  {
   "cell_type": "code",
   "execution_count": null,
   "metadata": {
    "vscode": {
     "languageId": "html"
    }
   },
   "outputs": [],
   "source": [
    "<!--This example uses unordered lists.-->\n",
    "<!DOCTYPE html>\n",
    "\n",
    "<html lang=\"en\">\n",
    "    <head>\n",
    "        <title>unordered list</title>\n",
    "    </head>\n",
    "    <body>\n",
    "        You know what they say.\n",
    "        <ul>\n",
    "            <!--NOTE: Each list item is nested in the ul tag.-->\n",
    "            <li> Shoulda </li>\n",
    "            <li> been a </li>\n",
    "            <li> Bronco </li>\n",
    "        </ul>\n",
    "    </body>\n",
    "</html>"
   ]
  },
  {
   "cell_type": "markdown",
   "metadata": {},
   "source": [
    "Ordered lists, use numbers (or symbols)\n",
    "\n",
    "- `<ol></ol>`"
   ]
  },
  {
   "cell_type": "code",
   "execution_count": null,
   "metadata": {
    "vscode": {
     "languageId": "html"
    }
   },
   "outputs": [],
   "source": [
    "<!--This example uses ordered lists.-->\n",
    "<!DOCTYPE html>\n",
    "\n",
    "<html lang=\"en\">\n",
    "    <head>\n",
    "        <title>ordered list</title>\n",
    "    </head>\n",
    "    <body>\n",
    "        You know what they say.\n",
    "        <ul>\n",
    "            <!--NOTE: Each list item is nested in the ul tag.-->\n",
    "            <li> Shoulda </li>\n",
    "            <li> been a </li>\n",
    "            <li> Bronco </li>\n",
    "        </ul>\n",
    "    </body>\n",
    "</html>"
   ]
  },
  {
   "cell_type": "markdown",
   "metadata": {},
   "source": [
    "Nestes list are a combination of either two sets of `<ul></ul>`, `<ol></ol>` or a combination of the two."
   ]
  },
  {
   "cell_type": "code",
   "execution_count": null,
   "metadata": {
    "vscode": {
     "languageId": "html"
    }
   },
   "outputs": [],
   "source": [
    "<!--This example uses ordered lists.-->\n",
    "<!DOCTYPE html>\n",
    "\n",
    "<html lang=\"en\">\n",
    "    <head>\n",
    "        <title>nested lists</title>\n",
    "    </head>\n",
    "    <body>\n",
    "        Reasons why I love being a Bronco.\n",
    "         <!--The `outer` list begins here.-->\n",
    "        <ul>\n",
    "            <li>Comunity. You can find alumni everywhere.</li>\n",
    "            <li>South Side/Hyde Park. There's nothing like it.</li>\n",
    "            <li>Scholarhips:</li>\n",
    "\n",
    "            <!--The `inner` list begins here.-->\n",
    "            <ul>\n",
    "                <li>Millions of $'s every year!</li>\n",
    "                <li>Students can graduate college debt free!</li>\n",
    "            </ul>\n",
    "\n",
    "        </ul>\n",
    "    </body>\n",
    "</html>"
   ]
  },
  {
   "cell_type": "markdown",
   "metadata": {},
   "source": [
    "## http-server\n",
    "\n",
    "We can open a web page in this text editor (VSCode) using the command `http-server`. \n",
    "\n",
    "Essentially, we create a temporay web server where we can host our files and open the webpages.\n",
    "\n",
    "```bash\n",
    "$ http-server\n",
    "```\n",
    "\n",
    "Let's open practice:\n",
    "\n",
    "- wget https://github.com/rafael-25/bronco/raw/notes/markup-challenge.zip\n",
    "\n",
    "- unzip markup-challenge.zip\n",
    "\n",
    "- rm markup-challenge.zip\n",
    "\n",
    "- cd markup-challenge"
   ]
  }
 ],
 "metadata": {
  "kernelspec": {
   "display_name": "Python 3",
   "language": "python",
   "name": "python3"
  },
  "language_info": {
   "codemirror_mode": {
    "name": "ipython",
    "version": 3
   },
   "file_extension": ".py",
   "mimetype": "text/x-python",
   "name": "python",
   "nbconvert_exporter": "python",
   "pygments_lexer": "ipython3",
   "version": "3.11.8"
  }
 },
 "nbformat": 4,
 "nbformat_minor": 2
}
