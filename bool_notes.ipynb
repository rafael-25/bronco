{
 "cells": [
  {
   "cell_type": "markdown",
   "metadata": {},
   "source": [
    "# Function, Variable Review\n",
    "\n",
    "## Coding 1\n",
    "\n",
    "- Functions can help express properties of shapes or real-world phenomena by using mathematical expressions.\n",
    "\n",
    "<iframe width=\"1000\" height=\"500\" frameborder=\"0\" src=\"https://pythontutor.com/iframe-embed.html#code=import%20math%0A%0Adef%20cylinder_area%28radius,%20height%29%3A%0A%0A%20%20%20%20surface_area%20%3D%202%20*%20math.pi%20*%20radius%20*%20%28radius%20%2B%20height%29%0A%20%20%20%20%0A%20%20%20%20return%20round%28surface_area,%202%29%0A%20%20%20%20%0Aprint%28cylinder_area%2810,%2020%29%29%0Aprint%28cylinder_area%283,%2012%29%29%0Aprint%28cylinder_area%285,%208%29%29&codeDivHeight=400&codeDivWidth=350&cumulative=false&curInstr=0&heapPrimitives=nevernest&origin=opt-frontend.js&py=3&rawInputLstJSON=%5B%5D&textReferences=false\"> </iframe>\n",
    "\n",
    "## Coding 2\n",
    "\n",
    "- Extracting digits from a number can be achieved by using both floor division `//` and modulo `%` operations.\n",
    "\n",
    "<iframe width=\"1000\" height=\"500\" frameborder=\"0\" src=\"https://pythontutor.com/iframe-embed.html#code=def%20blendColors%28rgb1,%20rgb2%29%3A%0A%20%20%20%20%23%20Extract%20R%20color%20channels%0A%20%20%20%20r1%20%3D%20rgb1%20//%2010**6%0A%20%20%20%20r2%20%3D%20rgb2%20//%2010**6%0A%20%20%20%20print%28r1,%20r2%29%0A%20%20%20%20%0A%20%20%20%20%23%20Extract%20G%20color%20channels%0A%20%20%20%20g1%20%3D%20rgb1%20//%2010**3%20%25%2010**3%0A%20%20%20%20g2%20%3D%20rgb2%20//%2010**3%20%25%2010**3%0A%20%20%20%20print%28g1,%20g2%29%0A%20%20%20%20%0A%20%20%20%20%23%20Extract%20B%20color%20channels%0A%20%20%20%20b1%20%3D%20rgb1%20%25%2010**3%0A%20%20%20%20b2%20%3D%20rgb2%20%25%2010**3%0A%20%20%20%20print%28b1,%20b2%29%0A%20%20%20%20%0A%20%20%20%20%23%20Blend%20Colors%0A%20%20%20%20R%20%3D%20%28r1%20%2B%20r2%29%20//%202%0A%20%20%20%20G%20%3D%20%28g1%20%2B%20g2%29%20//%202%0A%20%20%20%20B%20%3D%20%28b1%20%2B%20b2%29%20//%202%0A%20%20%20%20%0A%20%20%20%20print%28f%22blendedColor%3A%20%7BR%7D%7BG%7D%7BB%7D%22%29%0A%20%20%20%20%0AblendColors%2835102,%20144238144%29&codeDivHeight=400&codeDivWidth=350&cumulative=false&curInstr=0&heapPrimitives=nevernest&origin=opt-frontend.js&py=3&rawInputLstJSON=%5B%5D&textReferences=false\"> </iframe>"
   ]
  },
  {
   "cell_type": "markdown",
   "metadata": {},
   "source": [
    "# Boolean Expressions\n",
    "\n",
    "### Big Idea 3 – Algorithms and Programming\n",
    "\n",
    "- A significant advantage of any programming language is the ability to make comparisons between data.\n",
    "\n",
    "- Programming languages make comparisons using a set of operators (symbols) that evaluate to boolean type values. \n",
    "\n",
    "- [Exam Reference Sheet](https://apcentral.collegeboard.org/media/pdf/ap-computer-science-principles-exam-reference-sheet.pdf)\n",
    "\n",
    "### Lesson Objectives\n",
    "\n",
    "- Students will be able too:\n",
    "\n",
    "    - Explain the purpose and function of comparison and logical operators in programming.\n",
    "\n",
    "    - Apply knowledge of comparison/logical operators to analyze and predict the outcome of program output.\n",
    "\n",
    "    - Create programs that utilize boolean expressions."
   ]
  },
  {
   "cell_type": "markdown",
   "metadata": {},
   "source": [
    "## Comparison Operators \n",
    "\n",
    "When an expression evaluates to `True` or `False` we call that a *\"Boolean Expression\"*.\n",
    "\n",
    "Comparison operators are special symbols that compare two values and return a result; either `True` or `False`.\n",
    "\n",
    "`True` and `False` are boolean type values."
   ]
  },
  {
   "cell_type": "code",
   "execution_count": 1,
   "metadata": {},
   "outputs": [
    {
     "name": "stdout",
     "output_type": "stream",
     "text": [
      "True is of <class 'bool'>\n",
      "False is of <class 'bool'>\n"
     ]
    }
   ],
   "source": [
    "# In Python, bool values can be expressed literally.\n",
    "# Note: They are always capitalized.\n",
    "x = True\n",
    "y = False\n",
    "\n",
    "print(f\"{x} is of {type(x)}\")\n",
    "print(f\"{y} is of {type(y)}\")\n"
   ]
  },
  {
   "cell_type": "markdown",
   "metadata": {},
   "source": [
    "## The comaprison operators are as follows:\n",
    "\n",
    "| Syntax     | Definition                                                      |\n",
    "| ---        | ---                                                             |\n",
    "| ``x > y``  | ``True`` if left *operand* is greater than the right              |\n",
    "| ``x < y``  | ``True`` if left *operand* is less than the right                 |\n",
    "| ``x == y`` | ``True`` if both *operands* are equal                             |\n",
    "| ``x != y`` | ``True`` if both *operands* are not equal                         |\n",
    "| ``x >= y`` | ``True`` if left *operand* is greater than or equal to the right  |\n",
    "| ``x <= y`` | ``True`` if left *operand* is less than or equal to the right     |\n",
    "\n",
    "Whenever you use these symbols the result is always either `True` or `False`.\n"
   ]
  },
  {
   "cell_type": "markdown",
   "metadata": {},
   "source": [
    "### Turn and Talk (2 mins)\n",
    "\n",
    "Why might it be advantageous to make comparisons within a program? How could the result of being `True` or `False` be beneficial to a programmer?\n",
    "\n",
    "- *(Type your response here)*"
   ]
  },
  {
   "cell_type": "markdown",
   "metadata": {},
   "source": [
    "## Comparison operators in action\n",
    "\n",
    "1. The `>` and `<` symbols are probably quite familiar to you. They denote \"greater than\" and \"less than\", respectively."
   ]
  },
  {
   "cell_type": "code",
   "execution_count": 6,
   "metadata": {},
   "outputs": [
    {
     "name": "stdout",
     "output_type": "stream",
     "text": [
      "True True\n"
     ]
    }
   ],
   "source": [
    "x = 5 < 6\n",
    "y = 7 > 5\n",
    "\n",
    "print(x, y)\n"
   ]
  },
  {
   "cell_type": "markdown",
   "metadata": {},
   "source": [
    "2. `>=` denotes \"greater than or equal to\""
   ]
  },
  {
   "cell_type": "code",
   "execution_count": 7,
   "metadata": {},
   "outputs": [
    {
     "name": "stdout",
     "output_type": "stream",
     "text": [
      "False True\n"
     ]
    }
   ],
   "source": [
    "z = 9 >= 9\n",
    "w = 8 >= 10\n",
    "\n",
    "print(w,z)\n"
   ]
  },
  {
   "cell_type": "markdown",
   "metadata": {},
   "source": [
    "3. `<=` denotes \"less than or equal to\""
   ]
  },
  {
   "cell_type": "code",
   "execution_count": null,
   "metadata": {},
   "outputs": [],
   "source": [
    "x = 5\n",
    "y = 6\n",
    "z = x <= y\n",
    "\n",
    "print(z)\n"
   ]
  },
  {
   "cell_type": "markdown",
   "metadata": {},
   "source": [
    "4. `==` denotes \"equals to\". However, note that the single equal (`=`) and double equal (`==`) are not the same."
   ]
  },
  {
   "cell_type": "code",
   "execution_count": null,
   "metadata": {},
   "outputs": [],
   "source": [
    "w = 10\n",
    "z = -10\n",
    "\n",
    "print(w == abs(z))\n",
    "\n",
    "x = 5.0\n",
    "y = 5.0000001\n",
    "\n",
    "print(x == y)\n"
   ]
  },
  {
   "cell_type": "markdown",
   "metadata": {},
   "source": [
    "5. `!=` denotes \"note equal to\""
   ]
  },
  {
   "cell_type": "code",
   "execution_count": null,
   "metadata": {},
   "outputs": [],
   "source": [
    "x = 6\n",
    "y = 7\n",
    "w = 10\n",
    "z = y + 3\n",
    "\n",
    "print(w != z)\n",
    "print(y != x)\n"
   ]
  },
  {
   "cell_type": "markdown",
   "metadata": {},
   "source": [
    "### Assignment vs. Equality\n",
    "\n",
    "It is crucial to emphasize the distinction between a single `=` and a double `==` symbol. \n",
    "\n",
    "The single `=` is an assignment operator used to assign a value to a variable, while the double `==` is a comparison operator used to check equality between two values or variables. \n",
    "\n",
    "Understanding and using these symbols correctly is fundamental in programming to avoid unintended errors and ensure accurate logic in your code."
   ]
  },
  {
   "cell_type": "markdown",
   "metadata": {},
   "source": [
    "\n",
    "### Pulse Check 1\n",
    "\n",
    "Consider this code segment:\n",
    "\n",
    "```Python\n",
    "    w = 12\n",
    "    x = w - 8\n",
    "    y = w + x\n",
    "    z = y // 3\n",
    "\n",
    "    t = z < y\n",
    "    v = x >= x\n",
    "    u = t != v\n",
    "\n",
    "    print(v, t, u)\n",
    "```\n",
    "\n",
    "What is the output?\n",
    "\n",
    "a. `False True False`\n",
    "\n",
    "b. `False False True`\n",
    "\n",
    "c. `True True False`\n",
    "\n",
    "d. `True False True`\n",
    "\n",
    "[Vote](https://www.menti.com/alqof8pgbgyy)\n",
    "\n",
    "\n",
    "[Solution](https://pythontutor.com/render.html#code=x%20%3D%2012%0Ay%20%3D%20x%20%2B%204%0Az%20%3D%20y%20//%203%0A%0At%20%3D%20z%20%3C%20y%0Av%20%3D%20x%20%3E%3D%20x%0Au%20%3D%20t%20!%3D%20v%0A%0Aprint%28v,%20t,%20u%29&cumulative=false&curInstr=0&heapPrimitives=nevernest&mode=display&origin=opt-frontend.js&py=311&rawInputLstJSON=%5B%5D&textReferences=false)"
   ]
  },
  {
   "cell_type": "markdown",
   "metadata": {},
   "source": [
    "\n",
    "### Pulse Check 2\n",
    "\n",
    "Consider this code segment:\n",
    "\n",
    "```Python\n",
    "def f(x):\n",
    "    print(x + 4) # don't miss this line!\n",
    "    return x + 3\n",
    "\n",
    "def g(x):\n",
    "    return round(x) == round(x + 0.5)\n",
    "\n",
    "print(f(5))\n",
    "print(g(3.5))\n",
    "print(g(4.0))\n",
    "```\n",
    "\n",
    "What is the output? Assume the output will be on a single line.\n",
    "\n",
    "a. `9 12 True True`\n",
    "\n",
    "b. `9 8 True True`\n",
    "\n",
    "c. `9 12 True False`\n",
    "\n",
    "d. `9 8 True False`\n",
    "\n",
    "[Vote](https://www.menti.com/alrznitud7z8)\n",
    "\n",
    "[Solution](https://pythontutor.com/render.html#code=def%20f%28x%29%3A%0A%20%20%20%20print%28x%20%2B%204%29%20%23%20don't%20miss%20this%20line!%0A%20%20%20%20return%20x%20%2B%203%0A%0Adef%20g%28x%29%3A%0A%20%20%20%20return%20round%28x%29%20%3D%3D%20round%28x%20%2B%200.5%29%0A%0Aprint%28f%285%29%29%0Aprint%28g%283.5%29%29%0Aprint%28g%284.0%29%29&cumulative=false&curInstr=0&heapPrimitives=nevernest&mode=display&origin=opt-frontend.js&py=3&rawInputLstJSON=%5B%5D&textReferences=false)"
   ]
  },
  {
   "cell_type": "markdown",
   "metadata": {},
   "source": [
    "## Comparing str's\n",
    "\n",
    "In Python, comparing strings can be achieved using operators such as `==` for equality or `!=` for inequality. \n",
    "\n",
    "Typically, the most intuitive approach is to use these operators when assessing string equality."
   ]
  },
  {
   "cell_type": "code",
   "execution_count": 5,
   "metadata": {},
   "outputs": [
    {
     "name": "stdout",
     "output_type": "stream",
     "text": [
      "False\n",
      "True\n",
      "True\n",
      "False\n"
     ]
    }
   ],
   "source": [
    "c1 = \"BMW\"\n",
    "c2 = \"bmw\"\n",
    "\n",
    "print(c1 == c2)\n",
    "print(c1 != \"KIA\")\n",
    "\n",
    "c2 = \"kia\"\n",
    "print(c2.upper() == \"KIA\")\n",
    "print(c2 == \"KIA\")\n"
   ]
  },
  {
   "cell_type": "markdown",
   "metadata": {},
   "source": [
    "Strings can be compared using `<`, `>`, `<=`, and `>=`. \n",
    "\n",
    "When these operators are utilized, the comparison is performed lexicographically based on [ASCII](https://python-reference.readthedocs.io/en/latest/docs/str/ASCII.html) values.\n"
   ]
  },
  {
   "cell_type": "code",
   "execution_count": null,
   "metadata": {},
   "outputs": [],
   "source": [
    "fruit1 = \"Apple\"\n",
    "\n",
    "fruit2 = \"apple\"\n",
    "\n",
    "print(fruit1 < fruit2)\n"
   ]
  },
  {
   "cell_type": "markdown",
   "metadata": {},
   "source": [
    "ASCII, short for the American Standard Code for Information Interchange, is a standard character encoding system. \n",
    "\n",
    "It assigns a unique numerical value to each text character, facilitating consistent representation and exchange of text across different computer systems. \n",
    "\n",
    "To find the ASCII value of a character in a string, simply use the built-in funciton `ord`."
   ]
  },
  {
   "cell_type": "code",
   "execution_count": null,
   "metadata": {},
   "outputs": [],
   "source": [
    "print(ord(\"A\"))\n",
    "\n",
    "print(ord(\"a\"))\n"
   ]
  },
  {
   "cell_type": "markdown",
   "metadata": {},
   "source": [
    "## Logical Operators \n",
    "\n",
    "Logical operators allows us to compare multiple expressions at once. \n",
    "\n",
    "They only can compare expressions that evaluate to `True` or `False` and they return a boolean result.\n",
    "\n",
    "| Syntax      | Definition                                         |\n",
    "| ---         | ---                                                |\n",
    "| ``x and y`` | ``True`` if both the operands are true             |\n",
    "| ``x or y``  | ``True`` if either of the operands is true         |\n",
    "| ``not x``   | ``True`` True if operand is false                  |\n",
    "\n",
    "These operators *short-circuit* (i.e., when an expression is stopped being evaluated as soon as its outcome is determined.) "
   ]
  },
  {
   "cell_type": "markdown",
   "metadata": {},
   "source": [
    "1. `and` operator\n",
    "\n",
    "| A   | B   | A and B |\n",
    "| --- | --- | ------- |\n",
    "| False | False | False   |\n",
    "| False | True  | False   |\n",
    "| True  | False | False   |\n",
    "| True  | True  | True    |\n",
    "\n",
    "- A and B represent the operands of the \"`and`\" operator.\n",
    "\n",
    "- The column A and B represents the result of the \"`and`\" operation between A and B.\n",
    "\n",
    "- The \"and\" operator returns True only when both operands are `True`; otherwise, it returns `False`."
   ]
  },
  {
   "cell_type": "code",
   "execution_count": null,
   "metadata": {},
   "outputs": [],
   "source": [
    "print(7 > 5 and 2 > 3)\n",
    "\n",
    "print(7 > 5 and 5 > 3)\n",
    "\n",
    "print(2 < 3 and 'bronco' != 'Bronco')\n",
    "\n",
    "print(True and True and False) # Can use multiple and's in a statement\n"
   ]
  },
  {
   "cell_type": "markdown",
   "metadata": {},
   "source": [
    "2. `or` operator\n",
    "\n",
    "| A   | B   | A or B |\n",
    "| --- | --- | ------ |\n",
    "| False | False | False  |\n",
    "| False | True  | True   |\n",
    "| True  | False | True   |\n",
    "| True  | True  | True   |\n",
    "\n",
    "In the table:\n",
    "\n",
    "- A and B represent the operands of the \"`or`\" operator.\n",
    "\n",
    "- The column A or B represents the result of the \"`or`\" operation between A and B.\n",
    "\n",
    "- The \"`or`\" operator returns True if at least one of the operands is `True`; otherwise, it returns `False`."
   ]
  },
  {
   "cell_type": "code",
   "execution_count": null,
   "metadata": {},
   "outputs": [],
   "source": [
    "print(7 > 5 or 2 > 3)\n",
    "\n",
    "print(7 > 5 or 5 > 3)\n",
    "\n",
    "print(2 < 3 or 'bronco' != 'Bronco')\n",
    "\n",
    "print(True or True or False) # Can use multiple or's in a statement\n"
   ]
  },
  {
   "cell_type": "markdown",
   "metadata": {},
   "source": [
    "3. `not` operator\n",
    "\n",
    "| A   | not A |\n",
    "| --- | ----- |\n",
    "| False | True  |\n",
    "| True  | False |\n",
    "\n",
    "In the table:\n",
    "\n",
    "- A represents the operand of the \"`not`\" operator.\n",
    "\n",
    "- The column not A represents the result of the \"`not`\" operation on A.\n",
    "\n",
    "- The \"`not`\" operator returns `True` if the operand is `False`, and vice versa. It negates the `truth` value of the operand."
   ]
  },
  {
   "cell_type": "code",
   "execution_count": 7,
   "metadata": {},
   "outputs": [
    {
     "name": "stdout",
     "output_type": "stream",
     "text": [
      "False\n",
      "True\n",
      "False\n",
      "True\n",
      "True\n"
     ]
    }
   ],
   "source": [
    "print(not True)\n",
    "\n",
    "print(not False)\n",
    "\n",
    "print(not 5 > 3)\n",
    "\n",
    "print(not 5 <= 3)\n",
    "\n",
    "print(not False and not True or not False) # can combine all three (not, or, and)\n"
   ]
  },
  {
   "cell_type": "markdown",
   "metadata": {},
   "source": [
    "### Pulse Check 3\n",
    "\n",
    "In order to be eligible for the National Honor Society (NHS), a student must have a minimum GPA of 3.5 and be at least 16 years old. \n",
    "\n",
    "Determine the expression that evaluates to `True` if a student meets these eligibility criteria for NHS and `False` otherwise.\n",
    "\n",
    "a. `GPA >= 3.5 and age > 16`\n",
    "\n",
    "b. `GPA > 3.5 and age >= 16`\n",
    "\n",
    "c. `GPA >= 3.5 and age >= 16`\n",
    "\n",
    "d. `GPA > 3.5 and age > 16`\n",
    "\n",
    "[Vote](https://www.menti.com/alu9s7ejyxqf)\n",
    "\n",
    "[Solution](https://pythontutor.com/render.html#code=GPA%20%3D%203.5%0Aage%20%3D%2016%0A%0Aprint%28GPA%20%3E%3D%203.5%20and%20age%20%3E%2016%29%0A%0Aprint%28GPA%20%3E%203.5%20and%20age%20%3E%3D%2016%29%0A%0Aprint%28GPA%20%3E%3D%203.5%20and%20age%20%3E%3D%2016%29%0A%0Aprint%28GPA%20%3E%203.5%20and%20age%20%3E%2016%29&cumulative=false&curInstr=0&heapPrimitives=nevernest&mode=display&origin=opt-frontend.js&py=3&rawInputLstJSON=%5B%5D&textReferences=false)\n"
   ]
  },
  {
   "cell_type": "markdown",
   "metadata": {},
   "source": [
    "### Pulse Check 4\n",
    "\n",
    "Consider the following code segment:\n",
    "\n",
    "```Python\n",
    "x = False\n",
    "y = not x\n",
    "z = not y\n",
    "\n",
    "x = not z and (y or x)\n",
    "z = z and y\n",
    "\n",
    "print(y, x, z)\n",
    "```\n",
    "\n",
    "What is the output?\n",
    "\n",
    "a. `True False True`\n",
    "\n",
    "b. `False True True`\n",
    "\n",
    "c. `True True False`\n",
    "\n",
    "d. `False True False`\n",
    "\n",
    "[Vote](https://www.menti.com/altinrnrtbjt)\n",
    "\n",
    "[Solution](https://pythontutor.com/render.html#code=x%20%3D%20False%0Ay%20%3D%20not%20x%0Az%20%3D%20not%20y%0A%0Ax%20%3D%20not%20z%20and%20%28y%20or%20x%29%0Az%20%3D%20z%20and%20y%0A%0Aprint%28y,%20x,%20z%29&cumulative=false&curInstr=0&heapPrimitives=nevernest&mode=display&origin=opt-frontend.js&py=3&rawInputLstJSON=%5B%5D&textReferences=false)"
   ]
  },
  {
   "cell_type": "markdown",
   "metadata": {},
   "source": [
    "### Pulse Check 5\n",
    "\n",
    "One way to asess the volatility of a stock is to consider its price, market sentiment and volume. An elevated stock volatility is defined by the following conditions:\n",
    "\n",
    "- The stock price has increased by at least $5 since the last trading day.\n",
    "- The market sentiment is negative.\n",
    "- The trading volume is higher than 1,000,000 (`10**6`) shares.\n",
    "\n",
    "The variable `curr_price` and `prev_price` represent the current day and previous day price of the stock, respectively. The variable `sentiment` represents positive (`>= 0.5`) or negative (`< 0.5`) sentiment for the stock. The variable `volume` represents trading volume of the stock on that particular day.\n",
    "\n",
    "Which of the following results in `True` for elevated stock volatility?\n",
    "\n",
    "a. `curr_price - prev_price > 5 and sentiment < 0.5 and volume > 1000000`\n",
    "\n",
    "b. `curr_price - prev_price > 5 or sentiment >= 0.5 and volume > 1000000`\n",
    "\n",
    "c. `curr_price - prev_price > 5 and sentiment < 0.5 or volume > 1000000`\n",
    "\n",
    "d. `curr_price - prev_price > 5 and sentiment >= 0.5 or volume > 1000000`\n",
    "\n",
    "[Vote](https://www.menti.com/alyojwujf2cq)"
   ]
  },
  {
   "cell_type": "markdown",
   "metadata": {},
   "source": [
    "### Writing Funcitons A\n",
    "\n",
    "- Mathematically, if 'a', 'b', and 'c' are the lengths of the sides of the triangle, the following conditions must hold:\n",
    "    - a + b > c\n",
    "    - a + c > b\n",
    "    - b + c > a\n",
    "\n",
    "- Let's define a function `isTriangle` to determine if a triangle can be formed."
   ]
  },
  {
   "cell_type": "code",
   "execution_count": 1,
   "metadata": {},
   "outputs": [],
   "source": [
    "# Function to check if a triangle is valid\n",
    "def isTriangle(a, b, c):\n",
    "    # Evaluate conditions for a valid triangle\n",
    "    condition_1 = a + b > c\n",
    "    condition_2 = a + c > b\n",
    "    condition_3 = b + c > a\n",
    "\n",
    "    # Return a Boolean expression for a valid triangle\n",
    "    return condition_1 and condition_2 and condition_3\n"
   ]
  },
  {
   "cell_type": "code",
   "execution_count": 6,
   "metadata": {},
   "outputs": [
    {
     "name": "stdout",
     "output_type": "stream",
     "text": [
      "True\n",
      "True\n",
      "True\n",
      "False\n",
      "False\n",
      "False\n"
     ]
    }
   ],
   "source": [
    "# Test cases where a triangle can be formed\n",
    "print(isTriangle(3, 4, 5))\n",
    "print(isTriangle(5, 12, 13))\n",
    "print(isTriangle(8, 15, 17))\n",
    "\n",
    "# Test cases where a triangle cannot be formed\n",
    "print(isTriangle(1, 1, 3))\n",
    "print(isTriangle(5, 10, 25))\n",
    "print(isTriangle(0, 0, 0))\n"
   ]
  },
  {
   "cell_type": "markdown",
   "metadata": {},
   "source": [
    "### Writing Functions B\n",
    "\n",
    "- Logically, an RGB color is deemed gray if it has equal parts of red, green, and blue, i.e., R = G = B.\n",
    "\n",
    "- Let's define a function named `isGray(color)` that checks whether an integer `color` is gray or not.\n",
    "\n",
    "- The function will return `True` if the color is gray and `False` otherwise."
   ]
  },
  {
   "cell_type": "code",
   "execution_count": null,
   "metadata": {},
   "outputs": [],
   "source": [
    "def isGray(color):\n",
    "    # Extract the individual color channels (R, G, B) from the int value\n",
    "\n",
    "    # Check if all the color color channels are equal\n",
    "\n",
    "    # Return a Boolean indicating whether the color is gray or not\n"
   ]
  }
 ],
 "metadata": {
  "kernelspec": {
   "display_name": "Python 3",
   "language": "python",
   "name": "python3"
  },
  "language_info": {
   "codemirror_mode": {
    "name": "ipython",
    "version": 3
   },
   "file_extension": ".py",
   "mimetype": "text/x-python",
   "name": "python",
   "nbconvert_exporter": "python",
   "pygments_lexer": "ipython3",
   "version": "3.12.0"
  }
 },
 "nbformat": 4,
 "nbformat_minor": 2
}
