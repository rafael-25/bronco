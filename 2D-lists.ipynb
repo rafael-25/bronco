{
 "cells": [
  {
   "cell_type": "markdown",
   "metadata": {},
   "source": [
    "# Two Dimensional (2D) Lists \n",
    "\n",
    "## Students will be able too:\n",
    "\n",
    "- Describe the importance of a 2D list\n",
    "\n",
    "- Implement common operations on a 2D list \n",
    "\n",
    "- Apply 2D lists to common grid style games\n",
    "\n",
    "## Agenda\n",
    "\n",
    "- **01: 1D List Review**\n",
    "\n",
    "- **02: 2D Lists Basics**\n",
    "\n",
    "- **03: Tic-Tac-Toe**"
   ]
  },
  {
   "cell_type": "markdown",
   "metadata": {},
   "source": [
    "## **1D List Review**\n",
    "\n",
    "In Python, `lists` are versatile data structures that can hold multiple elements of any data type. For example, here is a list of ingredients for some Chocolate Chip Cookies!"
   ]
  },
  {
   "cell_type": "code",
   "execution_count": null,
   "metadata": {},
   "outputs": [],
   "source": [
    "ingredients = [\n",
    "    \"All-purpose flour\",\n",
    "    \"Baking soda\",\n",
    "    \"Salt\",\n",
    "    \"Unsalted butter, softened\",\n",
    "    \"Granulated sugar\",\n",
    "    \"Brown sugar\",\n",
    "    \"Egg\",\n",
    "    \"Vanilla extract\",\n",
    "    \"Chocolate chips\"\n",
    "]\n",
    "\n",
    "# Display the ingredients\n",
    "print(f\"Ingredients for Chocolate Chip Cookies: \\n{ingredients}\")\n"
   ]
  },
  {
   "cell_type": "markdown",
   "metadata": {},
   "source": [
    "Lists come with a plethora of useful operations like `append()`, `clear()`, `copy()` and [much more](https://www.w3schools.com/python/python_ref_list.asp).\n",
    "\n",
    "Suppose we wanted to make vegan cookies, so we needed to remove the `Egg` from our list. Using list functions, demonstrate how we would do that:\n",
    "\n",
    "- Consider a situation where we know that `Egg` is in the list but we don't know its exact position"
   ]
  },
  {
   "cell_type": "code",
   "execution_count": null,
   "metadata": {},
   "outputs": [],
   "source": [
    "# TODO: Remove the `Egg` from the list."
   ]
  },
  {
   "cell_type": "markdown",
   "metadata": {},
   "source": [
    "If we wanted to print each value of our list individualy, we can use a `for` loop in three distinct ways."
   ]
  },
  {
   "cell_type": "code",
   "execution_count": null,
   "metadata": {},
   "outputs": [],
   "source": [
    "# Method 1: Iterate over each item in the 'ingredients' list directly.\n",
    "for item in ingredients:\n",
    "    # Print each item\n",
    "    print(item)\n",
    "print()\n",
    "\n",
    "# Method 2: Iterate over each item using index in the 'ingredients' list.\n",
    "for i in range(len(ingredients)):\n",
    "    # Print each item\n",
    "    print(ingredients[i])\n",
    "print()\n",
    "\n",
    "# Method 3: Iterate over each item using enumerate in the 'ingredients' list,\n",
    "# which provides both the index and the item.\n",
    "for i, item in enumerate(ingredients):\n",
    "    # Print each item along with its index (starting from 1 for readability).\n",
    "    print(f'[{i + 1}]: {item}')\n",
    "print()\n"
   ]
  },
  {
   "cell_type": "markdown",
   "metadata": {},
   "source": [
    "As we've seen, working with lists using `for` loops allows us to perform some very useful operations.\n",
    "\n",
    "Suppose you were given the following list:"
   ]
  },
  {
   "cell_type": "code",
   "execution_count": null,
   "metadata": {},
   "outputs": [],
   "source": [
    "values = [27, 503, 24, 12, 78, 981, 654, 314, 987, 56, 1000, 42, 602, 888, 999]"
   ]
  },
  {
   "cell_type": "code",
   "execution_count": null,
   "metadata": {},
   "outputs": [],
   "source": [
    "# TODO: Using a for loop, print every other element of the list on a single line.\n",
    "\n",
    "# TODO: Using a for loop, sum all of the elements and display the sum.\n",
    "\n",
    "# TODO: Using a for loop, maximum and minimum element in the list and display them.\n",
    "\n",
    "# TODO: Using a for loop, check if there is a greater number of even or odd numbers in the list. Display either ODD, EVEN or BALANCED."
   ]
  },
  {
   "cell_type": "markdown",
   "metadata": {},
   "source": [
    "Another useful operation we can perform on lists is `slicing`. Slicing creates a sublist of another list.\n",
    "\n",
    "To slice a list, we use bracked notation.\n",
    "\n",
    "For example:"
   ]
  },
  {
   "cell_type": "code",
   "execution_count": null,
   "metadata": {},
   "outputs": [],
   "source": [
    "animals = ['Lion', 'Bear', 'Jaguar', 'Fox', 'Zebra']\n",
    "\n",
    "print(animals[1:2]) # ['Bear']\n",
    "\n",
    "print(animals[:2]) # ['Lion', 'Bear']\n",
    "\n",
    "print(animals[3:]) # ['Fox', 'Zebra']"
   ]
  },
  {
   "cell_type": "markdown",
   "metadata": {},
   "source": [
    "## **2D Lists Basics**\n",
    "\n",
    "A 2D list, also known as a nested list, is a list of lists where each element of the outer list is a list itself. \n",
    "\n",
    "2D lists are commonly used to represent grids, matrices, tables, or any other two-dimensional data structures.\n",
    "\n",
    "To create a 2D list in Python, you can initialize it with square brackets [ ] and populate it with inner lists. \n",
    "\n",
    "Here's an example:\n"
   ]
  },
  {
   "cell_type": "code",
   "execution_count": null,
   "metadata": {},
   "outputs": [],
   "source": [
    "# Creating a 2D list\n",
    "matrix = [\n",
    "    [1, 2, 3],\n",
    "    [4, 5, 6],\n",
    "    [7, 8, 9]\n",
    "]\n",
    "\n",
    "print(matrix)"
   ]
  },
  {
   "cell_type": "markdown",
   "metadata": {},
   "source": [
    "If we wanted to display a single row of the 2D list, we simply using braket notation."
   ]
  },
  {
   "cell_type": "code",
   "execution_count": null,
   "metadata": {},
   "outputs": [],
   "source": [
    "print(matrix[1])"
   ]
  },
  {
   "cell_type": "markdown",
   "metadata": {},
   "source": [
    "You can access individual elements of a 2D list using double indexing. The first index refers to the row, and the second index refers to the column. \n",
    "\n",
    "Remember that indexing in Python starts from 0."
   ]
  },
  {
   "cell_type": "code",
   "execution_count": null,
   "metadata": {},
   "outputs": [],
   "source": [
    "# Accessing elements of the 2D list\n",
    "print(matrix[0][0])  # Output: 1\n",
    "print(matrix[1][2])  # Output: 6\n",
    "\n",
    "# Modify an element of the 2D List\n",
    "matrix[0][0] = 10\n",
    "print(matrix[0][0])"
   ]
  },
  {
   "cell_type": "markdown",
   "metadata": {},
   "source": [
    "You can use nested loops to iterate through all elements of a 2D list.\n",
    "\n",
    "The outer loop iteratres through each row and the inner loop iterates through each value."
   ]
  },
  {
   "cell_type": "code",
   "execution_count": null,
   "metadata": {},
   "outputs": [],
   "source": [
    "# Iterating through the 2D list\n",
    "for row in matrix:\n",
    "    for element in row:\n",
    "        print(element, end=' ')\n",
    "    print()  # Move to the next line after each row\n",
    "\n",
    "# TODO: Rewrite the above code segment to use index bases loops using range and len()\n"
   ]
  },
  {
   "cell_type": "code",
   "execution_count": null,
   "metadata": {},
   "outputs": [],
   "source": [
    "# Suppose you have the following matrix:\n",
    "matrix = [\n",
    "    [1, 4, 7],\n",
    "    [2, 5, 8],\n",
    "    [3, 6, 9]\n",
    "]\n",
    "\n",
    "# TODO: Using nested for loops, print the values of the matric so the output is 1 through 9\n"
   ]
  },
  {
   "cell_type": "markdown",
   "metadata": {},
   "source": [
    "## **Tic-Tac-Toe Project**\n",
    "\n",
    "`Tic-Tac-Toe` is a game in which one player draw's X's and another player draws )'s inside a set of nine squares and each player tries to be the first to fill a row, column or diagonal eith either X's or O's.\n",
    "\n",
    "We will be writing an interactive `Tic-Tac-Toe` program. At the end of each turn the computer will check to see if either X or O has won the game.\n",
    "\n",
    "### Program Behavior\n",
    "\n",
    "- The program will prompt the user to enter their name and their opponnents name.\n",
    "\n",
    "- Whoever enters their name first will be plating as X's, and the other player will be )'s\n",
    "\n",
    "- The players will take turns inputting the row and column they would like to place their mark.\n",
    "\n",
    "- If theat spot is already taken the program will ask for the spot again.\n",
    "\n",
    "- At the end of each player's turn the program will check if that player has won.\n",
    "\n",
    "- At the end of each player's tuen the program will print the updated game board.\n",
    "\n",
    "- If there are no more spots open a nd nobody has won the game, the program will print `Tie game!`.\n",
    "\n",
    "## Sample Program Run\n",
    "\n",
    "```txt\n",
    "Welcome to Tic-Tac-Toe!\n",
    "'X' what is your name? Alice\n",
    "'O' what is your name? Bob\n",
    "Game Start\n",
    "  1|2|3\n",
    "1  | |\n",
    "2  | |\n",
    "3  | |\n",
    "\n",
    "Alice, what row is your move? 2\n",
    "Alice, what col is your move? 2\n",
    "  1|2|3\n",
    "1  | |\n",
    "2  |X|\n",
    "3  | |\n",
    "\n",
    "Bob, what row is your move? 1\n",
    "Bob, what col is your move? 1\n",
    "  1|2|3\n",
    "1 O| |\n",
    "2  |X|\n",
    "3  | |\n",
    "\n",
    "Alice, what row is your move? 3\n",
    "Alice, what col is your move? 1\n",
    "  1|2|3\n",
    "1 O| |\n",
    "2  |X|\n",
    "3 X| |\n",
    "\n",
    "Bob, what row is your move? 3\n",
    "Bob, what col is your move? 1\n",
    "Invalid move. Try again.\n",
    "\n",
    "Bob, what row is your move? 4\n",
    "Bob, what col is your move? 4\n",
    "Invalid move. Try again.\n",
    "\n",
    "Bob, what row is your move? 1\n",
    "Bob, what col is your move? 2\n",
    "  1|2|3\n",
    "1 O|O|\n",
    "2  |X|\n",
    "3 X| |\n",
    "\n",
    "Alice, what row is your move? 1\n",
    "Alice, what col is your move? 3\n",
    "  1|2|3\n",
    "1 O|O|X\n",
    "2  |X|\n",
    "3 X| |\n",
    "\n",
    "X wins!\n",
    "\n",
    "Would you like to play again? no\n",
    "Goodbye\n",
    "```\n",
    "\n",
    "## Implementation Details\n",
    "\n",
    "- Use variables to stoee the user names for personalized prompts.\n",
    "\n",
    "- Create a game board represented as a lists of lists, size 3 by 3.\n",
    "\n",
    "- Check for a winner horizontally, vetically, and on both diagonals.\n",
    "\n",
    "- Cannot allow a user to overwerite a spot on the board.\n",
    "\n",
    "## Starter Code\n",
    "\n",
    "- wget https://raw.githubusercontent.com/rafael-25/bronco/notes/tictactoe_starter_code.py\n",
    "\n",
    "## Rubric\n",
    "\n"
   ]
  },
  {
   "cell_type": "markdown",
   "metadata": {},
   "source": [
    "### Functional Correctness (35 points)\n",
    "\n",
    "- Programs prompts user for their names (2pts)\n",
    "\n",
    "- Program marks board where user requested (5pts)\n",
    "\n",
    "- Program prints a readable board after user's turn (5pts)\n",
    "\n",
    "- Program reports who won or if there was a tie (15pts)\n",
    "\n",
    "- Program ends after win, loss, or tie (3pts)"
   ]
  },
  {
   "cell_type": "markdown",
   "metadata": {},
   "source": [
    "### Technical Correctness (45pts)\n",
    "\n",
    "- Correct use of game loop (5pts)\n",
    "\n",
    "- COrrectly indexes into lists of lists to store board (5pts)\n",
    "\n",
    "- Check for winners on all three horizontal and verticals (20pts)\n",
    "\n",
    "- Checks for winners on both diagonals (10pts)"
   ]
  }
 ],
 "metadata": {
  "kernelspec": {
   "display_name": "Python 3",
   "language": "python",
   "name": "python3"
  },
  "language_info": {
   "codemirror_mode": {
    "name": "ipython",
    "version": 3
   },
   "file_extension": ".py",
   "mimetype": "text/x-python",
   "name": "python",
   "nbconvert_exporter": "python",
   "pygments_lexer": "ipython3",
   "version": "3.11.7"
  }
 },
 "nbformat": 4,
 "nbformat_minor": 2
}
