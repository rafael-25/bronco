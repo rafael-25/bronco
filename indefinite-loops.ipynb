{
 "cells": [
  {
   "cell_type": "markdown",
   "metadata": {},
   "source": [
    "# while Loops\n",
    "\n",
    "### Big Idea 3 – Algorithms and Programming\n",
    "\n",
    "- Programs can execute specific code blocks multiple times.\n",
    "\n",
    "- Programs can be adjusted to fit the needs of a specific algorithm.\n",
    "\n",
    "\n",
    "- [Exam Reference Sheet](https://apcentral.collegeboard.org/media/pdf/ap-computer-science-principles-exam-reference-sheet.pdf)\n",
    "\n",
    "### Lesson Objectives\n",
    "\n",
    "- Students will be able too:\n",
    "\n",
    "    - Explain the purpose and function of while loops.\n",
    "\n",
    "    - Develop algorithms that utilize condional logic and iteration.\n",
    "\n",
    "    - Apply knowledge of conditional logical to analyze and predict the outcome of a program..\n",
    "\n",
    "    - Create programs that utilize utilize conditional logic and iteration.."
   ]
  },
  {
   "cell_type": "markdown",
   "metadata": {},
   "source": [
    "One of the most powerful features in programming lies in its capacity for repetition.\n",
    "\n",
    "Repetition proves exceptional for addressing a variety of tasks and is often instrumental in eliminating redundancy from a program.\n",
    "\n",
    "A specific form of repetition, referred to as the \"while\" loop, follows this syntax:\n",
    "\n",
    "```Python\n",
    "while <boolean_expression>:\n",
    "    statements\n",
    "    statements\n",
    "    ...\n",
    "```\n",
    "\n",
    "This structure bears a strong resemblance to an `if` statement. However, its distinction lies in its iterative execution, continuing as long as the \"boolean expression\" holds true.\n",
    "\n",
    "\n",
    "Imagine printing the numbers from 1 to 10, including both ends."
   ]
  },
  {
   "cell_type": "code",
   "execution_count": null,
   "metadata": {},
   "outputs": [],
   "source": [
    "print(1)\n",
    "print(2)\n",
    "print(3)\n",
    "print(4)\n",
    "print(5)\n",
    "print(6)\n",
    "print(7)\n",
    "print(8)\n",
    "print(9)\n",
    "print(10)\n"
   ]
  },
  {
   "cell_type": "markdown",
   "metadata": {},
   "source": [
    "For such a straightforward task, the redundancy is quite apparent. Now, let's reimagine the same example but harnessing the power of a `while` loop."
   ]
  },
  {
   "cell_type": "code",
   "execution_count": null,
   "metadata": {},
   "outputs": [],
   "source": [
    "n = 1\n",
    "\n",
    "while n <= 10:\n",
    "    print(n)\n",
    "\n",
    "    n = n + 1 # Exit Strategy\n",
    "\n",
    "print(\"Program End\")\n"
   ]
  },
  {
   "cell_type": "markdown",
   "metadata": {},
   "source": [
    "The efficiency of a while loop becomes evident as it allows us to achieve the same output with significantly fewer lines of code. \n",
    "\n",
    "It demonstrates the power of concise and expressive programming constructs."
   ]
  },
  {
   "cell_type": "markdown",
   "metadata": {},
   "source": [
    "## Exit Strategy\n",
    "\n",
    "The exit strategy of a while loop is contingent on the evaluation of a boolean expression. The loop continues to execute as long as this expression is true. \n",
    "\n",
    "Once the boolean expression becomes false, the loop terminates, and the program moves on to the next statement following the while loop.\n",
    "\n",
    "In the context of the while loop, the boolean expression is evaluated before each iteration. \n",
    "\n",
    "If it is initially false, the loop may not execute at all. \n",
    "\n",
    "If it becomes false during the execution of the loop, the loop stops, and control is transferred to the next statement after the loop.\n",
    "\n",
    "| Iteration | n   | n <= 10 | Output |\n",
    "|-----------|-----|---------|--------|\n",
    "| 1         | 1   | true    | 1      |\n",
    "| 2         | 2   | true    | 2      |\n",
    "| 3         | 3   | true    | 3      |\n",
    "| 4         | 4   | true    | 4      |\n",
    "| 5         | 5   | true    | 5      |\n",
    "| 6         | 6   | true    | 6      |\n",
    "| 7         | 7   | true    | 7      |\n",
    "| 8         | 8   | true    | 8      |\n",
    "| 9         | 9   | true    | 9      |\n",
    "| 10        | 10  | true    | 10     |\n",
    "| 11        | 11  | false   | -      |"
   ]
  },
  {
   "cell_type": "markdown",
   "metadata": {},
   "source": [
    "### Animated while loop\n",
    "\n",
    "Here is a visual animation of printing the odd numbers between 1 and 10, inclusive.\n",
    "\n",
    "![While Loop Animated](https://i.pinimg.com/originals/41/a3/04/41a3041c02de23b097fa1c5be788a9eb.gif)"
   ]
  },
  {
   "cell_type": "markdown",
   "metadata": {},
   "source": [
    "### [Ex1: Running Total](https://pythontutor.com/render.html#code=print%28'Keep%20entering%20numbers%20until%20the%20sum%20exceeds%20100!'%29%0A%0Atotal%20%3D%200%20%20%20%23%20create%20variable%20outside%20of%20the%20loop%0A%0Awhile%20total%20%3C%3D%20100%3A%0A%20%20%20%20%0A%20%20%20%20print%28f'The%20total%20so%20far%20is%3A%20%7Btotal%7D'%29%0A%20%20%20%20nextNumber%20%3D%20int%28input%28'Enter%20the%20next%20number%3A%20'%29%29%0A%20%20%20%20%0A%20%20%20%20total%20%2B%3D%20nextNumber%20%23%20Exit%20Strategy%0A%20%20%20%20%0A%20%20%20%20%0Aprint%28f'Done,%20with%20a%20final%20total%20of%3A%20%7Btotal%7D'%29&cumulative=false&curInstr=0&heapPrimitives=nevernest&mode=display&origin=opt-frontend.js&py=311&rawInputLstJSON=%5B%5D&textReferences=false)\n",
    "\n",
    "We can create a while loop to accumulate user input until a specific condition is met.\n",
    "\n",
    "In this example, the program iterates while the total is less than or equal to 100."
   ]
  },
  {
   "cell_type": "code",
   "execution_count": null,
   "metadata": {},
   "outputs": [],
   "source": [
    "print('Keep entering numbers until the sum exceeds 100!')\n",
    "\n",
    "total = 0   # create variable outside of the loop\n",
    "\n",
    "while total <= 100:\n",
    "\n",
    "    print(f'The total so far is: {total}')\n",
    "    nextNumber = int(input('Enter the next number: '))\n",
    "\n",
    "    total += nextNumber # Exit Strategy\n",
    "\n",
    "\n",
    "print(f'Done, with a final total of: {total}')"
   ]
  },
  {
   "cell_type": "markdown",
   "metadata": {},
   "source": [
    "### [Ex2: Input Validation](https://pythontutor.com/render.html#code=correct_password%20%3D%20%22bronco%22%0Aattempts%20%3D%200%0A%0Apassword%20%3D%20input%28%22Enter%20your%20password%3A%20%22%29%0A%0Awhile%20password%20!%3D%20correct_password%3A%0A%20%20%20%20print%28%22Incorrect.%20Please%20try%20again.%22%29%0A%0A%20%20%20%20attempts%20%2B%3D%201%20%20%20%23%20Modify%20variable%20inside%20of%20loop%0A%0A%20%20%20%20password%20%3D%20input%28%22Enter%20your%20password%3A%20%22%29%20%20%20%0A%0Aprint%28f%22Access%20granted.%20It%20only%20took%20you%20%7Battempts%20%2B%201%7D%20attempts.%22%29&cumulative=false&curInstr=0&heapPrimitives=nevernest&mode=display&origin=opt-frontend.js&py=311&rawInputLstJSON=%5B%5D&textReferences=false)\n",
    "\n",
    "\n",
    "While loops are especially useful for input validation.\n",
    "\n",
    "Sometimes, when accepting input from a user, we might not know what they may enter.\n",
    "\n",
    "We can iterate as long as they enter something we don't expect."
   ]
  },
  {
   "cell_type": "code",
   "execution_count": null,
   "metadata": {},
   "outputs": [],
   "source": [
    "correct_password = \"bronco\"\n",
    "attempts = 0\n",
    "\n",
    "password = input(\"Enter your password: \")\n",
    "\n",
    "while password != correct_password:\n",
    "    print(\"Incorrect. Please try again.\")\n",
    "\n",
    "    attempts += 1   # Modify variable inside of loop\n",
    "\n",
    "    password = input(\"Enter your password: \")\n",
    "\n",
    "print(f\"Access granted. It only took you {attempts + 1} attempts.\")"
   ]
  },
  {
   "cell_type": "markdown",
   "metadata": {},
   "source": [
    "### [Ex3: Digit Summation](https://pythontutor.com/render.html#code=number%20%3D%2013283%0Asum_of_digits%20%3D%200%0A%0Awhile%20number%20%3E%200%3A%0A%20%20%20%20digit%20%3D%20number%20%25%2010%20%20%23%20Get%20the%20last%20digit%0A%0A%20%20%20%20sum_of_digits%20%2B%3D%20digit%20%20%23%20Add%20the%20digit%20to%20the%20sum%0A%0A%20%20%20%20number%20//%3D%2010%20%20%23%20Remove%20the%20last%20digit%0A%0Aprint%28%22Sum%20of%20digits%3A%22,%20sum_of_digits%29&cumulative=false&curInstr=0&heapPrimitives=nevernest&mode=display&origin=opt-frontend.js&py=311&rawInputLstJSON=%5B%5D&textReferences=false)\n",
    "\n",
    "\n",
    "Using integer division (`//`) and modulus (`%`), we can break numbers apart and accomplish a variety of tasks.\n",
    "\n",
    "Here, we sum the digits of the given number."
   ]
  },
  {
   "cell_type": "code",
   "execution_count": null,
   "metadata": {},
   "outputs": [],
   "source": [
    "number = 13283\n",
    "sum_of_digits = 0\n",
    "\n",
    "while number > 0:\n",
    "    digit = number % 10  # Get the last digit\n",
    "\n",
    "    sum_of_digits += digit  # Add the digit to the sum\n",
    "\n",
    "    number //= 10  # Remove the last digit\n",
    "\n",
    "print(\"Sum of digits:\", sum_of_digits)"
   ]
  },
  {
   "cell_type": "markdown",
   "metadata": {},
   "source": [
    "Here is a table illustrating the execution of the above program.\n",
    "\n",
    "| Iteration | `number` | `digit` | `sum_of_digits` | Comments                                   |\n",
    "|-----------|----------|---------|------------------|--------------------------------------------|\n",
    "| Initial   | 13283    | -       | 0                | Initial values                             |\n",
    "| 1         | 1328     | 3       | 3                | Extracted last digit (3), added to sum     |\n",
    "| 2         | 132      | 8       | 11               | Extracted last digit (8), added to sum     |\n",
    "| 3         | 13       | 2       | 13               | Extracted last digit (2), added to sum     |\n",
    "| 4         | 1        | 3       | 16               | Extracted last digit (3), added to sum     |\n",
    "| 5         | 0        | 1       | 17               | Extracted last digit (1), added to sum     |\n",
    "| Final     | 0        | -       | 17               | Loop exit, print final sum                |\n"
   ]
  },
  {
   "cell_type": "markdown",
   "metadata": {},
   "source": [
    "### [Ex4: Reverse Nunber](https://pythontutor.com/render.html#code=def%20reverseNumber%28n%29%3A%0A%20%20%20%20res%20%3D%200%0A%20%20%20%20while%20n%20%3E%200%3A%0A%20%20%20%20%20%20%20%20curr_digit%20%3D%20n%20%25%2010%0A%0A%20%20%20%20%20%20%20%20res%20*%3D%2010%0A%0A%20%20%20%20%20%20%20%20res%20%2B%3D%20curr_digit%0A%0A%20%20%20%20%20%20%20%20n%20//%3D%2010%0A%0A%20%20%20%20return%20res%0A%0Anum1%20%3D%2032456%0A%0Anum2%20%3D%20reverseNumber%28num1%29%0A%0Aprint%28num1,%20num2%29&cumulative=false&curInstr=0&heapPrimitives=nevernest&mode=display&origin=opt-frontend.js&py=311&rawInputLstJSON=%5B%5D&textReferences=false)\n",
    "\n",
    "Here is an example of reversing the order of digits in a given number."
   ]
  },
  {
   "cell_type": "code",
   "execution_count": 1,
   "metadata": {},
   "outputs": [
    {
     "name": "stdout",
     "output_type": "stream",
     "text": [
      "32456 65423\n"
     ]
    }
   ],
   "source": [
    "def reverseNumber(n):\n",
    "    res = 0\n",
    "    while n > 0:\n",
    "        curr_digit = n % 10\n",
    "\n",
    "        res *= 10\n",
    "\n",
    "        res += curr_digit\n",
    "\n",
    "        n //= 10\n",
    "\n",
    "    return res\n",
    "\n",
    "num1 = 32456\n",
    "\n",
    "num2 = reverseNumber(num1)\n",
    "\n",
    "print(num1, num2)"
   ]
  },
  {
   "cell_type": "markdown",
   "metadata": {},
   "source": [
    "Here is a table illustrating the execution of the above program.\n",
    "\n",
    "| Iteration | `n`   | `curr_digit` | `res` | Comments                                   |\n",
    "|-----------|-------|--------------|-------|--------------------------------------------|\n",
    "| Initial   | 32456 | -            | 0     | Initial values                             |\n",
    "| 1         | 3245  | 6            | 0     | Extracted last digit (6), res becomes 60  |\n",
    "| 2         | 324   | 5            | 60    | Extracted last digit (5), res becomes 650 |\n",
    "| 3         | 32    | 4            | 650   | Extracted last digit (4), res becomes 6540|\n",
    "| 4         | 3     | 2            | 6540  | Extracted last digit (2), res becomes 65420|\n",
    "| 5         | 0     | 3            | 65420 | Extracted last digit (3), res becomes 654203|\n",
    "| Final     | 0     | -            | 654203| Loop exit, reversed number is 654203      |\n"
   ]
  },
  {
   "cell_type": "markdown",
   "metadata": {},
   "source": [
    "### [Ex5: Counting Digits](https://pythontutor.com/render.html#code=def%20hasConsecutiveDigits%28n%29%3A%0A%20%20%20%20n%20%3D%20abs%28n%29%0A%0A%20%20%20%20while%20n%20%3E%200%3A%0A%20%20%20%20%20%20%20%20if%20n%20%25%2010%20%3D%3D%20%28n%20//%2010%29%20%25%2010%3A%0A%20%20%20%20%20%20%20%20%20%20%20%20return%20True%0A%0A%20%20%20%20%20%20%20%20n%20//%3D%2010%0A%0A%20%20%20%20return%20False%0A%0Aprint%28hasConsecutiveDigits%2811234%29%29%0A%0Aprint%28hasConsecutiveDigits%2814234%29%29&cumulative=false&curInstr=0&heapPrimitives=nevernest&mode=display&origin=opt-frontend.js&py=311&rawInputLstJSON=%5B%5D&textReferences=false)\n",
    "\n",
    "We can also use a while loop to determine if a number has consecutive digits."
   ]
  },
  {
   "cell_type": "code",
   "execution_count": 2,
   "metadata": {},
   "outputs": [
    {
     "name": "stdout",
     "output_type": "stream",
     "text": [
      "True\n",
      "False\n"
     ]
    }
   ],
   "source": [
    "def hasConsecutiveDigits(n):\n",
    "    n = abs(n)\n",
    "\n",
    "    while n > 0:\n",
    "        if n % 10 == (n // 10) % 10:\n",
    "            return True\n",
    "\n",
    "        n //= 10\n",
    "\n",
    "    return False\n",
    "\n",
    "print(hasConsecutiveDigits(11234))\n",
    "\n",
    "print(hasConsecutiveDigits(14234))"
   ]
  },
  {
   "cell_type": "markdown",
   "metadata": {},
   "source": [
    "Here are tables for each call to the function.\n",
    "\n",
    "`hasConsecutiveDigits(11234)`\n",
    "\n",
    "| Iteration | `n`   | `(n % 10 == (n // 10) % 10)` | Result |\n",
    "|-----------|-------|-----------------------------|--------|\n",
    "| Initial   | 11234 | False                       | False  |\n",
    "| 1         | 1123  | True                        | True   |\n",
    "\n",
    "`hasConsecutiveDigits(14234)`\n",
    "\n",
    "| Iteration | `n`   | `(n % 10 == (n // 10) % 10)` | Result |\n",
    "|-----------|-------|-----------------------------|--------|\n",
    "| Initial   | 14234 | False                       | False  |\n",
    "| 1         | 1423  | False                       | False  |\n",
    "| 2         | 142   | True                        | True   |\n",
    "| 3         | 14    | False                       | True   |\n",
    "| 4         | 1     | False                       | True   |\n",
    "\n",
    "\n"
   ]
  },
  {
   "cell_type": "markdown",
   "metadata": {},
   "source": [
    "### [Ex6: Determine the Most Frequent Digit](https://pythontutor.com/render.html#code=def%20countOccurrences%28number,%20digit%29%3A%0A%20%20%20%20count%20%3D%200%0A%0A%20%20%20%20while%20number%20%3E%200%3A%0A%20%20%20%20%20%20%20%20if%20number%20%25%2010%20%3D%3D%20digit%3A%0A%20%20%20%20%20%20%20%20%20%20%20%20count%20%2B%3D%201%0A%0A%20%20%20%20%20%20%20%20number%20//%3D%2010%0A%0A%20%20%20%20return%20count%0A%0Adef%20mostFrequentDigit%28number%29%3A%0A%20%20%20%20most_frequent_count%20%3D%200%0A%20%20%20%20most_frequent_digit%20%3D%200%0A%20%20%20%20i%20%3D%200%0A%0A%20%20%20%20while%20i%20%3C%2010%3A%0A%20%20%20%20%20%20%20%20current_count%20%3D%20countOccurrences%28number,%20i%29%0A%0A%20%20%20%20%20%20%20%20if%20current_count%20%3E%20most_frequent_count%3A%0A%20%20%20%20%20%20%20%20%20%20%20%20most_frequent_count%20%3D%20current_count%0A%20%20%20%20%20%20%20%20%20%20%20%20most_frequent_digit%20%3D%20i%0A%0A%20%20%20%20%20%20%20%20i%20%2B%3D%201%0A%0A%20%20%20%20return%20most_frequent_digit%0A%0Anumber_to_check%20%3D%20122345566%0A%0Aresult%20%3D%20mostFrequentDigit%28number_to_check%29%0A%0Aprint%28f%22The%20most%20frequent%20digit%20in%20%7Bnumber_to_check%7D%20is%3A%20%7Bresult%7D%22%29&cumulative=false&curInstr=0&heapPrimitives=nevernest&mode=display&origin=opt-frontend.js&py=311&rawInputLstJSON=%5B%5D&textReferences=false)\n",
    "\n",
    "We can also use while loops to find the most frequent digit in a number.\n",
    "\n",
    "In this example, we'll use two functions."
   ]
  },
  {
   "cell_type": "code",
   "execution_count": null,
   "metadata": {},
   "outputs": [],
   "source": [
    "def countOccurrences(number, digit):\n",
    "    count = 0\n",
    "\n",
    "    while number > 0:\n",
    "        if number % 10 == digit:\n",
    "            count += 1\n",
    "\n",
    "        number //= 10\n",
    "\n",
    "    return count\n",
    "\n",
    "def mostFrequentDigit(number):\n",
    "    most_frequent_count = 0\n",
    "    most_frequent_digit = 0\n",
    "    i = 0\n",
    "\n",
    "    while i < 10:\n",
    "        current_count = countOccurrences(number, i)\n",
    "\n",
    "        if current_count > most_frequent_count:\n",
    "            most_frequent_count = current_count\n",
    "            most_frequent_digit = i\n",
    "\n",
    "        i += 1\n",
    "\n",
    "    return most_frequent_digit\n",
    "\n",
    "number_to_check = 122345566\n",
    "\n",
    "result = mostFrequentDigit(number_to_check)\n",
    "\n",
    "print(f\"The most frequent digit in {number_to_check} is: {result}\")\n"
   ]
  },
  {
   "cell_type": "markdown",
   "metadata": {},
   "source": [
    "\n",
    "Creating a table for this would involve extensive tracing. Instead, let's discuss into the workings of each function.\n",
    "\n",
    "In the `mostFrequentDigit` function, we iterate through each digit of a given number and keep track of how often each digit appears. \n",
    "\n",
    "- The function then identifies and returns the digit that occurs most frequently, providing insights into the numerical composition of the given number.\n",
    "\n",
    "The `countOccurrences` function serves as a tool for counting the occurrences of a specific digit within a given number. \n",
    "\n",
    "- This function aids in the statistical analysis of digit frequencies, contributing to the broader goal of identifying the most frequently occurring digit in the overall number."
   ]
  },
  {
   "cell_type": "markdown",
   "metadata": {},
   "source": [
    "### [Ex7: Guess My Number](https://pythontutor.com/render.html#code=import%20random%0A%0A%23%20Set%20the%20range%20for%20the%20random%20number%0Amin_number%20%3D%201%0Amax_number%20%3D%20100%0Atarget_number%20%3D%20random.randint%28min_number,%20max_number%29%0A%0A%23%20Initialize%20variables%0Aguess%20%3D%200%0Aattempts%20%3D%200%0A%0A%23%20Game%20loop%0Awhile%20guess%20!%3D%20target_number%3A%0A%20%20%20%20%23%20Get%20user%20input%20for%20the%20guess%0A%20%20%20%20guess%20%3D%20int%28input%28f%22Guess%20a%20number%20between%20%7Bmin_number%7D%20and%20%7Bmax_number%7D%3A%20%22%29%29%0A%0A%20%20%20%20%23%20Increment%20the%20number%20of%20attempts%0A%20%20%20%20attempts%20%2B%3D%201%0A%0A%20%20%20%20%23%20Check%20if%20the%20guess%20is%20correct,%20too%20low,%20or%20too%20high%0A%20%20%20%20if%20guess%20%3D%3D%20target_number%3A%0A%20%20%20%20%20%20%20%20print%28f%22Congratulations!%20You%20guessed%20the%20number%20%7Btarget_number%7D%20in%20%7Battempts%7D%20attempts.%22%29%0A%20%20%20%20elif%20guess%20%3C%20target_number%3A%0A%20%20%20%20%20%20%20%20print%28%22Too%20low.%20Try%20again.%22%29%0A%20%20%20%20else%3A%0A%20%20%20%20%20%20%20%20print%28%22Too%20high.%20Try%20again.%22%29&cumulative=false&curInstr=0&heapPrimitives=nevernest&mode=display&origin=opt-frontend.js&py=3&rawInputLstJSON=%5B%5D&textReferences=false)\n",
    "\n",
    "Here is an example of a guess my number game."
   ]
  },
  {
   "cell_type": "code",
   "execution_count": null,
   "metadata": {},
   "outputs": [],
   "source": [
    "import random\n",
    "\n",
    "# Set the range for the random number\n",
    "min_number = 1\n",
    "max_number = 100\n",
    "target_number = random.randint(min_number, max_number)\n",
    "\n",
    "# Initialize variables\n",
    "guess = 0\n",
    "attempts = 0\n",
    "\n",
    "# Game loop\n",
    "while guess != target_number:\n",
    "    # Get user input for the guess\n",
    "    guess = int(input(f\"Guess a number between {min_number} and {max_number}: \"))\n",
    "\n",
    "    # Increment the number of attempts\n",
    "    attempts += 1\n",
    "\n",
    "    # Check if the guess is correct, too low, or too high\n",
    "    if guess == target_number:\n",
    "        print(f\"Congratulations! You guessed the number {target_number} in {attempts} attempts.\")\n",
    "    elif guess < target_number:\n",
    "        print(\"Too low. Try again.\")\n",
    "    else:\n",
    "        print(\"Too high. Try again.\")\n"
   ]
  },
  {
   "cell_type": "markdown",
   "metadata": {},
   "source": [
    "### Infinite Loops\n",
    "\n",
    "An infinite loop is when your code gets stuck in an endless cycle of repeating code and never finishes.\n",
    "\n",
    "Let’s look at a couple of examples of code that will run forever:\n",
    "\n",
    "```Python\n",
    "# The boolean value True will never be False\n",
    "while True:\n",
    "    print(\"hello\")\n",
    "\n",
    "# i keeps decreasing and will always be less than 1\n",
    "i = 0\n",
    "while i < 1:\n",
    "    i = i - 1\n",
    "\n",
    "# Since two values are always either equal or not equal this condition will never be false\n",
    "a = True\n",
    "b = False\n",
    "while (a == b) or (a != b):\n",
    "    print(\"bronco\")\n",
    "```"
   ]
  }
 ],
 "metadata": {
  "kernelspec": {
   "display_name": "Python 3",
   "language": "python",
   "name": "python3"
  },
  "language_info": {
   "codemirror_mode": {
    "name": "ipython",
    "version": 3
   },
   "file_extension": ".py",
   "mimetype": "text/x-python",
   "name": "python",
   "nbconvert_exporter": "python",
   "pygments_lexer": "ipython3",
   "version": "3.12.0"
  }
 },
 "nbformat": 4,
 "nbformat_minor": 2
}
