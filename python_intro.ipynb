{
 "cells": [
  {
   "cell_type": "markdown",
   "metadata": {},
   "source": [
    "# What is Github?\n",
    "\n",
    "<iframe width=\"560\" height=\"315\" src=\"https://www.youtube.com/embed/pBy1zgt0XPc?si=8LtLi4zHkRZCJCcb\" title=\"YouTube video player\" frameborder=\"0\" allow=\"accelerometer; autoplay; clipboard-write; encrypted-media; gyroscope; picture-in-picture; web-share\" allowfullscreen></iframe>"
   ]
  },
  {
   "cell_type": "markdown",
   "metadata": {},
   "source": [
    "GitHub is a platform for collaboration between programmers.\n",
    "\n",
    "Through GitHub, we will use a codespace which is an online text editor.\n",
    "\n",
    "We will be learning to program using `Python`."
   ]
  },
  {
   "cell_type": "markdown",
   "id": "50b52d02-885c-465c-b1c9-2c91db9d7eee",
   "metadata": {
    "tags": []
   },
   "source": [
    "# Python\n",
    "\n",
    "![Python](https://onlinedegrees.sandiego.edu/wp-content/uploads/2023/05/6-careers-you-can-get-with-python.jpg)\n",
    "\n"
   ]
  },
  {
   "cell_type": "markdown",
   "metadata": {},
   "source": [
    "# Why Python?\n",
    "\n",
    "Simply put, `Python` is a highly functional programming langauge equipped with powerful tools to address a variety of problems. It boasts readability, ease of use and enjoys widespread popularity among leading tech comapnies.\n",
    "\n",
    "When compared to other widely-used programming langauges, `Python` stands out as an excellent entry point for matering the fundamentals of programming.\n",
    "\n",
    "- Python\n",
    "\n",
    "```Python\n",
    "print(\"hello world\")\n",
    "```\n",
    "\n",
    "- Java\n",
    "\n",
    "```Java\n",
    "public class Intro {\n",
    "    public static void main(String[] args) {\n",
    "        System.out.println(\"hello world\");\n",
    "    }\n",
    "}\n",
    "```\n",
    "\n",
    "- C++\n",
    "\n",
    "```C++\n",
    "#include <iostream>\n",
    "\n",
    "void main() {\n",
    "    cout << \"hello world\";\n",
    "}\n",
    "```\n",
    "\n",
    "## It's very popular\n",
    "\n",
    "![Python Chart](https://miro.medium.com/v2/resize:fit:1400/1*itIT95KvtxA1H2bcPcXtlA.png)"
   ]
  },
  {
   "cell_type": "markdown",
   "metadata": {},
   "source": [
    "## Python like the snake?\n",
    "\n",
    "`Python` isn't named after the animal. It's named after Monty Python's Flying Circus! \n",
    "\n",
    "![Monty Python's Flying Circu](https://tellyspotting.kera.org/wp-content/uploads/2022/10/MPFC-logo.jpg)\n",
    "\n",
    "I guess its founder had an appreciation for the show."
   ]
  },
  {
   "cell_type": "markdown",
   "metadata": {},
   "source": [
    "# Output\n",
    "\n",
    "![Output Example](https://cs.stanford.edu/people/nick/py/img/python-print.png)\n",
    "\n",
    "We can generate `output` using the **print** command.\n",
    "\n",
    "```Python\n",
    "print(\"hello world\")\n",
    "```\n",
    "\n",
    "The command **must** include a set of parenthesis *( )*. \n",
    "\n",
    "Whatever text or variable appears inbetween the open and close paren will be *printed*.\n",
    "\n",
    "Text should be enclosed in a set of single quotes or double quotes.\n",
    "\n",
    "- \"apple\"\n",
    "- 'pie'\n",
    "- 'A girl has no name'\n",
    "- \"One fish, two fish, red fish, blue fish\"\n",
    "\n",
    "Try *printing* these in the code block below:\n",
    "\n",
    "- your name\n",
    "- name of your favorite movie or book\n",
    "- top three college or career choices\n",
    "- an inspirational quote, phrase or mantra\n",
    "\n",
    "Use four print commands."
   ]
  },
  {
   "cell_type": "code",
   "execution_count": null,
   "metadata": {},
   "outputs": [],
   "source": []
  },
  {
   "cell_type": "markdown",
   "metadata": {},
   "source": [
    "#### Comments\n",
    "\n",
    "Non-coding text does not have to be in a markdown cell. Long before we had Jupyter notebooks, computer scientists had to embed both personal notes and notes to others in their code. \n",
    "\n",
    "This is done by using **comments**. In a code cell, anything after a `#` is ignored by the computer. Run the following cell as is, then see what happens is you remove the `#` and rerun it."
   ]
  },
  {
   "cell_type": "code",
   "execution_count": null,
   "metadata": {},
   "outputs": [],
   "source": [
    "print(\"Hello, world!\")  # I am a comment. Ignore me.\n"
   ]
  },
  {
   "cell_type": "markdown",
   "id": "a053d0ae-4f7b-47b9-aa5e-57e7e72a1291",
   "metadata": {
    "tags": []
   },
   "source": [
    "## Operators\n",
    "\n",
    "Like many other programming langauges, `Python's` power comes from the operations it can perform. \n",
    "\n",
    "`Operators` are symbols used to perform operations on data. `Operators` are at the heart of every action that a computer takes.\n",
    "\n",
    "There are three sets of operators that we'll learn:\n",
    "\n",
    "1. Arithmetic Operators\n",
    "2. Comparison Operators\n",
    "3. Logic Operators\n",
    "\n",
    "Today we will focus primarily on `arithmetic operators`"
   ]
  },
  {
   "cell_type": "markdown",
   "id": "46a5f24f-a2a9-4d7e-b5df-4123be3f1edc",
   "metadata": {
    "tags": []
   },
   "source": [
    "### Arithmetic Operators (Math)"
   ]
  },
  {
   "cell_type": "markdown",
   "id": "a6d5d402-75d0-4758-acf2-7764d89c6618",
   "metadata": {
    "tags": []
   },
   "source": [
    "The most basic way to use Python (and all coding languages) is as a calculator. \n",
    "\n",
    "The following arithmetiic operators include some you are probably familiar with an maybe a couple of new ones. \n",
    "\n",
    "|name|operator|\n",
    "|------|------|\n",
    "| add | `+` |\n",
    "| subtract | `-`| \n",
    "| multiply | `*` |\n",
    "| divide  | `/` |\n",
    "| raise to a power | `**` |\n",
    "| floor division | `//` |\n",
    "| modulus | `%` |\n",
    "\n",
    "Try them out on the cell below:"
   ]
  },
  {
   "cell_type": "code",
   "execution_count": 1,
   "id": "c639ea5c-2994-4c6e-8571-fe0950025a83",
   "metadata": {},
   "outputs": [
    {
     "name": "stdout",
     "output_type": "stream",
     "text": [
      "4\n"
     ]
    }
   ],
   "source": [
    "print(2 + 2)\n"
   ]
  },
  {
   "cell_type": "markdown",
   "id": "87b34498-ce44-4741-a96a-7e9793c2657e",
   "metadata": {},
   "source": [
    "## Variables\n",
    "\n",
    "Like variables in math, variables in programming allow us to assign a value, like `5`,  to a variable, like `x`, in the form:"
   ]
  },
  {
   "cell_type": "code",
   "execution_count": null,
   "id": "bf2b11b4-3dfd-4bec-8cca-f65001f032b0",
   "metadata": {},
   "outputs": [],
   "source": [
    "x = 5\n"
   ]
  },
  {
   "cell_type": "markdown",
   "id": "bde8a05c-bd60-4da6-aa12-ee2095b6f18e",
   "metadata": {},
   "source": [
    "The variable `x` contains the number `5`. \n",
    "\n",
    "Similar to how a box might contain or store an item.\n",
    "\n",
    "Now the computer treats `x` and `5` as the same:"
   ]
  },
  {
   "cell_type": "code",
   "execution_count": null,
   "id": "900c36b2-de43-4ef6-b7bd-3ca92b35ab41",
   "metadata": {},
   "outputs": [],
   "source": [
    "print(2 + x)\n"
   ]
  },
  {
   "cell_type": "markdown",
   "id": "e6f3e4bd-45fd-4334-9230-bbaba5c90b38",
   "metadata": {},
   "source": [
    "Variable assignments are not permanent. They can be overwritten by assigning a new value to an existing variable. This is where the order in which you run the cells is important. "
   ]
  },
  {
   "cell_type": "code",
   "execution_count": null,
   "id": "1379b50a-fd93-47b9-9df7-71ea0eb8dac2",
   "metadata": {},
   "outputs": [],
   "source": [
    "x = 10\n",
    "print(2 + x)\n",
    "x = 3\n",
    "y = x + 2\n",
    "print(y + x)\n"
   ]
  },
  {
   "cell_type": "markdown",
   "id": "7e0024c6-91cf-44d1-8e20-78cb40cf7f87",
   "metadata": {},
   "source": [
    "However, we should think of variables much more broadly in Python as a \"bucket\" to store data. That data could be a single number, a list of items, even massive datasets."
   ]
  },
  {
   "cell_type": "markdown",
   "id": "3a37f7c5-1228-4188-b030-eb1ee8f05089",
   "metadata": {},
   "source": [
    "### Naming Variables"
   ]
  },
  {
   "cell_type": "markdown",
   "id": "76595c8b-eeed-4a9c-89c6-fb094ec02b50",
   "metadata": {},
   "source": [
    "It is important to give variables a descriptive name as you want to write code so that others can understand it (`x` is too generic).\n",
    "\n",
    "Variable names are case sensitive. There are several common conventions when there are more than one word in a variable name:\n",
    "\n",
    "|Convention|Examples|\n",
    "|----------|--------|\n",
    "|Camel Case|`camelCase`|\n",
    "|Snake Case|`snake_case`|\n",
    "|Pascal Case|`PascalCase`|\n",
    "\n",
    "In this notebook, we will use snake case."
   ]
  },
  {
   "cell_type": "code",
   "execution_count": null,
   "metadata": {},
   "outputs": [],
   "source": [
    "numberOfStudents = 25       #camelCase ❌\n",
    "\n",
    "number_of_students = 25     #snake_case ✅\n",
    "\n",
    "NumberOfStudents = 25       #PascalCase ❌\n"
   ]
  },
  {
   "cell_type": "markdown",
   "metadata": {},
   "source": [
    "## Expressions\n",
    "\n",
    "The potency of programming lies in its capacity to create impactful `expressions`.\n",
    "\n",
    "Similar to mathematical `expressions` found in a math class, a programming expression is a blend of variables, numbers, and algebraic manipulations. \n",
    "\n",
    "This mixture is designed to accurately represent real-world phenomena or situations."
   ]
  },
  {
   "cell_type": "code",
   "execution_count": 3,
   "metadata": {},
   "outputs": [
    {
     "name": "stdout",
     "output_type": "stream",
     "text": [
      "You will be paid $312.50 this week!\n"
     ]
    }
   ],
   "source": [
    "# How much will I be paid this week?\n",
    "\n",
    "hourly_rate = 12.5\n",
    "\n",
    "hours_worked = 25\n",
    "\n",
    "pay = hourly_rate * hours_worked\n",
    "\n",
    "print(f\"You will be paid ${pay:.2f} this week!\")\n"
   ]
  },
  {
   "cell_type": "markdown",
   "metadata": {},
   "source": [
    "### Format String\n",
    "\n",
    "In Python, an `f-string` is a concise and efficient way to format strings. \n",
    "\n",
    "It stands for \"formatted string literal\" and allows you to embed expressions inside string literals, making it easy to include variables and expressions directly within the string.\n",
    "\n",
    "- `print(f\"You will be paid ${pay:.2f} this week!\")`\n",
    "\n",
    "In this example {pay} is placeholder for the value of variable `pay` when the string is created.\n",
    "\n",
    "The `f` means it is a formatted string. The `:.2f` attached the placeholder ensures it's rounded to two decimals."
   ]
  },
  {
   "cell_type": "markdown",
   "metadata": {},
   "source": [
    "## Input\n",
    "\n",
    "To make our programs more interesting we can use the `input` command.\n",
    "\n",
    "Like the `print` command it must include *( )*.\n",
    "\n",
    "We can put text between the parens as a prompt to someone using our program."
   ]
  },
  {
   "cell_type": "code",
   "execution_count": 5,
   "metadata": {},
   "outputs": [
    {
     "name": "stdout",
     "output_type": "stream",
     "text": [
      "Your name is Mr. Lewis.\n"
     ]
    }
   ],
   "source": [
    "name = input(\"What is you name?\")\n",
    "\n",
    "print(f\"Your name is {name}.\")\n"
   ]
  },
  {
   "cell_type": "markdown",
   "metadata": {},
   "source": [
    "In code above, the variable names will be `assigned` the value given by your input.\n",
    "\n",
    "Something important to note about the `input` command is that the information that you or someone using your program is always given back as a string.\n",
    "\n",
    "For example:"
   ]
  },
  {
   "cell_type": "code",
   "execution_count": 6,
   "metadata": {},
   "outputs": [
    {
     "name": "stdout",
     "output_type": "stream",
     "text": [
      "10 + 20 is 1020\n"
     ]
    }
   ],
   "source": [
    "x = input(\"What is x?\")\n",
    "\n",
    "y = input(\"What is y?\")\n",
    "\n",
    "z = x + y\n",
    "\n",
    "print(f\"{x} + {y} is {z}\")\n"
   ]
  },
  {
   "cell_type": "markdown",
   "metadata": {},
   "source": [
    "What is happening when we add `x` and `y`? Text can be combined using `+` operator. \n",
    "\n",
    "Therefore, because `input` treats all information as a string. \n",
    "\n",
    "So if we want numbers, we must convert the original input using the `int` command."
   ]
  },
  {
   "cell_type": "code",
   "execution_count": 7,
   "metadata": {},
   "outputs": [
    {
     "name": "stdout",
     "output_type": "stream",
     "text": [
      "10 + 20 is 30\n"
     ]
    }
   ],
   "source": [
    "x = int(input(\"What is x?\"))\n",
    "\n",
    "y = int(input(\"What is y?\"))\n",
    "\n",
    "z = x + y\n",
    "\n",
    "print(f\"{x} + {y} is {z}\")\n"
   ]
  }
 ],
 "metadata": {
  "kernelspec": {
   "display_name": "Python 3 (ipykernel)",
   "language": "python",
   "name": "python3"
  },
  "language_info": {
   "codemirror_mode": {
    "name": "ipython",
    "version": 3
   },
   "file_extension": ".py",
   "mimetype": "text/x-python",
   "name": "python",
   "nbconvert_exporter": "python",
   "pygments_lexer": "ipython3",
   "version": "3.12.0"
  }
 },
 "nbformat": 4,
 "nbformat_minor": 5
}
