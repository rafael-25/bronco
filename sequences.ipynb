{
 "cells": [
  {
   "cell_type": "markdown",
   "metadata": {},
   "source": [
    "# Sequences: Lists\n",
    "\n",
    "## Big Idea 3: Algorithms & Programming\n",
    "\n",
    "### Essential Questions:\n",
    "\n",
    "- How does using data structures strategically improve how information is organized and represented? \n",
    "\n",
    "- What impact does this have on making programming problem-solving more efficient and effective?\n",
    "\n",
    "### Students will be able to:\n",
    "\n",
    "- Explain the concept of a list in Python, emphasizing its role in storing and organizing multiple elements.\n",
    "\n",
    "- Discuss the benefits of using lists in programming, such as flexibility, ease of manipulation, and efficient data storage.\n",
    "\n",
    "- Demonstrate the ability to create lists in Python and modify their contents.\n",
    "\n",
    "- Illustrate the process of adding, removing, and updating elements in a list to showcase mutability.\n",
    "\n",
    "- Explore the usage of list methods by calling them in practical scenarios.\n",
    "\n",
    "- Develop the skill to predict the program output after applying various list methods, emphasizing how these methods alter the list structure.\n",
    "\n",
    "## Agenda:\n",
    "\n",
    "Today's Topics:\n",
    "\n",
    "- **0: Understanding the Importance of Lists**\n",
    "  - Exploring the significance of lists in data organization.\n",
    "\n",
    "- **1: Creating Lists in Python**\n",
    "  - Learning the basics of creating lists in the Python programming language.\n",
    "\n",
    "- **2: Exploring List Indexing**\n",
    "  - Delving into the concept of indexing within lists.\n",
    "\n",
    "- **3: Aliases and Equality in Lists**\n",
    "  - Understanding aliases and equality in the context of lists.\n",
    "\n",
    "- **4: Exploring Common and Popular List Methods in Python**\n",
    "  - Discovering widely used methods for manipulating lists in Python."
   ]
  },
  {
   "cell_type": "markdown",
   "metadata": {},
   "source": [
    "## 0: Understanding the Importance of Lists\n",
    "\n",
    "In Python, variables serve as *containers* that store information or data. For instance:"
   ]
  },
  {
   "cell_type": "code",
   "execution_count": null,
   "metadata": {},
   "outputs": [],
   "source": [
    "# Some facts about the former First Lady\n",
    "first_name = \"Michelle\"\n",
    "age = 59\n",
    "is_chicagoan = True\n",
    "favorite_color = \"lavender\"\n",
    "college = \"Princeton University\"\n",
    "height_inches = 71.0"
   ]
  },
  {
   "cell_type": "markdown",
   "metadata": {},
   "source": [
    "Variables are extremely useful as they allow us to track information in our programs and construct expressions, as per the example below."
   ]
  },
  {
   "cell_type": "code",
   "execution_count": null,
   "metadata": {},
   "outputs": [],
   "source": [
    "print(\"This program determines the product of two numbers.\")\n",
    "\n",
    "x = int(input(\"Enter x: \"))\n",
    "y = int(input(\"Enter y: \"))\n",
    "\n",
    "product = x * y # Expression\n",
    "\n",
    "print(f\"The product of {x} and {y} is {product})"
   ]
  },
  {
   "cell_type": "markdown",
   "metadata": {},
   "source": [
    "Nevertheless, they (**variables**) come with limitations. For instance, if we aim to create a variable to store the temperature for a day in Chicago. \n",
    "\n",
    "A single variable will suffice for a relatively straightforward implementation."
   ]
  },
  {
   "cell_type": "code",
   "execution_count": null,
   "metadata": {},
   "outputs": [],
   "source": [
    "temp = -8.0 # Chicago temperature in F˚ on 01/15/2024\n",
    "\n",
    "print(f\"The temperature last Monday in Chicago was {temp}˚F.\")"
   ]
  },
  {
   "cell_type": "markdown",
   "metadata": {},
   "source": [
    "Now, picture this: we want to upgrade our program to keep track of not just one temperature but the temperatures for an entire week.\n",
    "\n",
    "Why would we want to make such a program? Perhaps we aim to figure out the average temperature for that week. Here's how:"
   ]
  },
  {
   "cell_type": "code",
   "execution_count": null,
   "metadata": {},
   "outputs": [],
   "source": [
    "# Chicago forecasted temperatures in ˚F for 01/15/2024 to 01/22/2024\n",
    "temp0 = -8.0\n",
    "temp1 = -7.0\n",
    "temp2 = 17\n",
    "temp3 = 18\n",
    "temp4 = 15\n",
    "temp5 = 15\n",
    "temp6 = 21\n",
    "\n",
    "sum_of_temps = temp0 + temp1 + temp2 + temp3 + temp4 + temp5 + temp6\n",
    "\n",
    "average = sum_of_temps / 7\n",
    "\n",
    "print(f\"The average (forecasted) temperature for this week in Chicago is {average:.2f}˚F.\")"
   ]
  },
  {
   "cell_type": "markdown",
   "metadata": {},
   "source": [
    "As our program grows, we notice a pattern of repetition. This means we need to use multiple variables to store closely related data. \n",
    "\n",
    "At first, this might not seem like a big deal, especially when dealing with just a few variables.\n",
    "\n",
    "Now, think about the difficulties we'd face if we want to expand our program—like adding more weeks, covering a whole year, or even a decade."
   ]
  },
  {
   "cell_type": "markdown",
   "metadata": {},
   "source": [
    "### Introducing the `list`\n",
    "\n",
    "As we develop more advanced programs, depending on just one variable for each piece of data becomes challenging to maintain.\n",
    "\n",
    "To make our program simpler and easier to handle, we introduce a `data structure` called a `list`.\n",
    "\n",
    "![Grocery List Example](https://www.cartooncuisine.com/wp-content/uploads/2015/08/Smithers-Grocery-List.png)\n",
    "\n",
    "Here's an updated version of our previous example, but now we're using a list to store values instead of individual variables."
   ]
  },
  {
   "cell_type": "code",
   "execution_count": null,
   "metadata": {},
   "outputs": [],
   "source": [
    "# Previous example employed using a list with statistics module methods\n",
    "import statistics\n",
    "\n",
    "temperatures = [-8.0, -7.0, 17, 18, 15, 15, 21]\n",
    "\n",
    "average = statistics.mean(temperatures) # Not possible without the list data type\n",
    "\n",
    "print(f\"The average (forecasted) temperature for this week in Chicago is {average:.2f}˚F.\")"
   ]
  },
  {
   "cell_type": "markdown",
   "metadata": {},
   "source": [
    "A `list` is a fundamental data structure in Python (and many other programming languages) used to organize data.\n",
    "\n",
    "Key points about the list data structure in Python:\n",
    "\n",
    "- Lists are made using `[ ]` notation and can hold multiple ordered, diverse (different types) elements.\n",
    "\n",
    "- Elements are divided by commas, and it's okay to have repeated elements.\n",
    "\n",
    "- All elements in a list share a common name, known as an alias. This is shown in the example with the alias 'temperatures'.\n",
    "\n",
    "Here are some examples of valid lists in Python."
   ]
  },
  {
   "cell_type": "code",
   "execution_count": null,
   "metadata": {},
   "outputs": [],
   "source": [
    "ex1 = [1, True, 'yes']  # List of unlike elements\n",
    "\n",
    "ex2 = ['pear', 32, 32, [0,1]]   # Another list of unlike elements, including a list.\n",
    "\n",
    "ex3 = [ ]   # Empyt list\n",
    "\n",
    "ex4 = [ex1, ex2, ex3] # List of lists\n",
    "\n",
    "print(ex1, ex2, ex3, ex4, sep=\"\\n\")\n"
   ]
  },
  {
   "cell_type": "markdown",
   "metadata": {},
   "source": [
    "## 1: Creating Lists in Python\n",
    "\n",
    "Creating a list in Python can be done in different ways. The simplest method is to use the assignment symbol (`=`).\n"
   ]
  },
  {
   "cell_type": "code",
   "execution_count": null,
   "metadata": {},
   "outputs": [],
   "source": [
    "fruits = ['cantaloupe', 'mango', 'pineapple'] # Mr. Lewis's fav fruits :)"
   ]
  },
  {
   "cell_type": "markdown",
   "metadata": {},
   "source": [
    "In the example above:\n",
    "\n",
    "- `fruits` is the name or alias given to the list.\n",
    "\n",
    "- `'cantaloupe'`, `'mango'`, and `'pineapple'` are the elements within the list.\n",
    "\n",
    "- The `=` assignment operator is used to link the alias to the elements.\n",
    "\n",
    "This way of building a list is used to create a list `literal`: a list with a set size and predefined values."
   ]
  },
  {
   "cell_type": "markdown",
   "metadata": {},
   "source": [
    "### Variable-length list\n",
    "\n",
    "You can create a list of default values using the `*` operator, and this will give you a list with a specific size.\n",
    "\n",
    "This syntax is quite common in the Python programming world and you'll encounter it frequently.\n"
   ]
  },
  {
   "cell_type": "code",
   "execution_count": null,
   "metadata": {},
   "outputs": [],
   "source": [
    "length = int(input(\"What is the desired length for the list? \"))\n",
    "\n",
    "nums = [0] * length\n",
    "\n",
    "print(nums)"
   ]
  },
  {
   "cell_type": "markdown",
   "metadata": {},
   "source": [
    "### Concatenating Lists\n",
    "\n",
    "\n",
    "Lists can also be merged using the `+` operator. This combines two lists into a new one. \n",
    "\n",
    "The elements in the new list will include the elements of both lists, with the elements from the left list appearing before the elements from the right list."
   ]
  },
  {
   "cell_type": "code",
   "execution_count": null,
   "metadata": {},
   "outputs": [],
   "source": [
    "a_list = ['Pizza', 'Pasta', 'Panini']\n",
    "\n",
    "b_list = ['Hamburger', 'Italian Beef', 'Chicken Tenders']\n",
    "\n",
    "c_list = b_list + a_list\n",
    "\n",
    "print(c_list)"
   ]
  },
  {
   "cell_type": "markdown",
   "metadata": {},
   "source": [
    "### len()\n",
    "\n",
    "Python comes with a useful function that tells you the size of a list whenever you need it.\n",
    "\n",
    "This function is called `len()`, which is short for length.\n",
    "\n",
    "Here's an example:"
   ]
  },
  {
   "cell_type": "code",
   "execution_count": null,
   "metadata": {},
   "outputs": [],
   "source": [
    "fruits = ['cantaloupe', 'mango', 'pineapple']\n",
    "\n",
    "print(f\"Mr. Lewis has {len(fruits)} favorite fruits.\") # We call the len function witht the list alias as a parameter."
   ]
  },
  {
   "cell_type": "markdown",
   "metadata": {},
   "source": [
    "## 2: Exploring List Indexing\n",
    "\n",
    "A list is a sequence of ordered and changeable values. This means that each element in the list has an index, and we can use or modify these indices.\n",
    "\n",
    "Take, for example, a list named `fruits` with three elements."
   ]
  },
  {
   "cell_type": "code",
   "execution_count": null,
   "metadata": {},
   "outputs": [],
   "source": [
    "fruits = ['cantaloupe', 'mango', 'pineapple']"
   ]
  },
  {
   "cell_type": "markdown",
   "metadata": {},
   "source": [
    "How does Python represent this information? \n",
    "\n",
    "| Index | Fruits    |\n",
    "|-------|-----------|\n",
    "| 0     | `'cantaloupe'` |\n",
    "| 1     | `'mango'`     |\n",
    "| 2     | `'pineapple'` |\n",
    "\n",
    "Every element in the list is given an index. Interestingly, the first element isn't at index 1, but rather at index 0.\n",
    "\n",
    "The initial index is 0, and each subsequent index increases by increments of 1.\n",
    "\n",
    "To access a particular element, we use the list's alias along with the specific index, using bracket notation.\n",
    "\n"
   ]
  },
  {
   "cell_type": "code",
   "execution_count": null,
   "metadata": {},
   "outputs": [],
   "source": [
    "fruits = ['cantaloupe', 'mango', 'pineapple']\n",
    "\n",
    "print(fruits[0])\n",
    "print(fruits[1])\n",
    "print(fruits[2])\n",
    "\n",
    "# Error. But why?\n",
    "print(fruits[3])"
   ]
  },
  {
   "cell_type": "markdown",
   "metadata": {},
   "source": [
    "We can also modify the values within the list using this same notication with an `=` assignment operation."
   ]
  },
  {
   "cell_type": "code",
   "execution_count": null,
   "metadata": {},
   "outputs": [],
   "source": [
    "\n",
    "fruits = ['cantaloupe', 'mango', 'pineapple']\n",
    "\n",
    "print(fruits) # Before modification\n",
    "\n",
    "fruits[0] = 'pear'\n",
    "\n",
    "fruits[1] = fruits[2]\n",
    "\n",
    "print(fruits) # After modification\n"
   ]
  },
  {
   "cell_type": "markdown",
   "metadata": {},
   "source": [
    "### Aside: Negative Indices\n",
    "\n",
    "We can also access the elements of a list in reverse using negative values.\n",
    "\n",
    "| Index | Fruits    |\n",
    "|-------|-----------|\n",
    "| -3     | `'cantaloupe'` |\n",
    "| -2     | `'mango'`     |\n",
    "| -1     | `'pineapple'` |"
   ]
  },
  {
   "cell_type": "code",
   "execution_count": null,
   "metadata": {},
   "outputs": [],
   "source": [
    "fruits = ['cantaloupe', 'mango', 'pineapple']\n",
    "\n",
    "print(fruits[-1])\n",
    "print(fruits[-2])\n",
    "print(fruits[-3])"
   ]
  },
  {
   "cell_type": "markdown",
   "metadata": {},
   "source": [
    "## 3: Aliases and Equality in Lists\n",
    "\n",
    "Behind the scenes, there's something interesting happening with how lists are stored in the computer's memory.\n",
    "\n",
    "Take a look at this piece of code:"
   ]
  },
  {
   "cell_type": "code",
   "execution_count": null,
   "metadata": {},
   "outputs": [],
   "source": [
    "data_set_A = [1, 2, 3, 4, 5]\n",
    "data_set_B = data_set_A\n",
    "\n",
    "# Modify data_set_B\n",
    "data_set_B[0] = 99\n",
    "\n",
    "# Print both datasets\n",
    "print(\"Dataset A:\", data_set_A)\n",
    "print(\"Dataset B:\", data_set_B)"
   ]
  },
  {
   "cell_type": "markdown",
   "metadata": {},
   "source": [
    "Although, we modified the first element of `data_set_B`, it appears that `data_set_A` has also undergone the same modification.\n",
    "\n",
    "This is due to the fact the both variables (`data_set_A` and `data_set_B`) are aliased to the same list."
   ]
  },
  {
   "cell_type": "markdown",
   "metadata": {},
   "source": [
    "### Aliases\n",
    "\n",
    "In Python, an alias is a bit like a nickname or another name for something.\n",
    "\n",
    "More precisely, it's an alternative name assigned to an existing variable or data structure. When you use an alias, you're essentially talking about the same thing but using a different name.\n",
    "\n",
    "Now, let's check out the earlier example using Python Tutor.\n",
    "\n",
    "<iframe width=\"800\" height=\"400\" frameborder=\"0\" src=\"https://pythontutor.com/iframe-embed.html#code=data_set_A%20%3D%20%5B1,%202,%203,%204,%205%5D%0Adata_set_B%20%3D%20data_set_A%0A%0A%23%20Modify%20data_set_B%0Adata_set_B%5B0%5D%20%3D%2099%0A%0A%23%20Print%20both%20datasets%0Aprint%28%22Dataset%20A%3A%22,%20data_set_A%29%0Aprint%28%22Dataset%20B%3A%22,%20data_set_B%29&codeDivHeight=400&codeDivWidth=350&cumulative=false&curInstr=0&heapPrimitives=nevernest&origin=opt-frontend.js&py=311&rawInputLstJSON=%5B%5D&textReferences=false\"> </iframe>\n",
    "\n",
    "It seems like both variables point to the same information in memory. And guess what? That's absolutely correct!\n",
    "\n",
    "### Copying a List\n",
    "\n",
    "So if we wanted to copy the contents of a list and we want to avoid creating a new alias, what should we do?\n",
    "\n",
    "Luckily, Python comes with a built-in method called `copy()`. This creates an independent copy of a list and will allow you to create a copy without generating a new alias."
   ]
  },
  {
   "cell_type": "code",
   "execution_count": null,
   "metadata": {},
   "outputs": [],
   "source": [
    "universities1 = ['UIUC', 'Standford', 'Michigan', 'MIT']\n",
    "\n",
    "universities2 = universities1.copy()\n",
    "\n",
    "universities2[2] = 'FAMU'\n",
    "\n",
    "print(universities1)\n",
    "print(universities2)"
   ]
  },
  {
   "cell_type": "markdown",
   "metadata": {},
   "source": [
    "Let's examine this program with Python Tutor\n",
    "\n",
    "<iframe width=\"800\" height=\"400\" frameborder=\"0\" src=\"https://pythontutor.com/iframe-embed.html#code=universities1%20%3D%20%5B'UIUC',%20'Standford',%20'Michigan',%20'MIT'%5D%0A%0Auniversities2%20%3D%20universities1.copy%28%29%0A%0Auniversities2%5B2%5D%20%3D%20'FAMU'%0A%0Aprint%28universities1%29%0Aprint%28universities2%29&codeDivHeight=400&codeDivWidth=350&cumulative=false&curInstr=0&heapPrimitives=nevernest&origin=opt-frontend.js&py=3&rawInputLstJSON=%5B%5D&textReferences=false\"> </iframe>"
   ]
  },
  {
   "cell_type": "markdown",
   "metadata": {},
   "source": [
    "### `id()`\n",
    "\n",
    "Python comes with a handy feature that lets you see where an alias points in the computer's memory.\n",
    "\n",
    "You can check if two aliases are pointing to the same thing using the keyword `is`. For example:"
   ]
  },
  {
   "cell_type": "code",
   "execution_count": null,
   "metadata": {},
   "outputs": [],
   "source": [
    "universities1 = ['UIUC', 'Stanford', 'Michigan', 'MIT']\n",
    "\n",
    "# Creating a shallow copy of universities1\n",
    "universities2 = universities1.copy()\n",
    "\n",
    "# Creating another alias to universities1\n",
    "universities3 = universities1\n",
    "\n",
    "# Comparing memory addresses to check oif aliases point to the same list\n",
    "print(f'Memory addresses: {id(universities1)} == {id(universities2)} --> {universities1 is universities2}')\n",
    "\n",
    "print(f'Memory addresses: {id(universities2)} == {id(universities3)} --> {universities2 is universities3}')\n",
    "\n",
    "print(f'Memory addresses: {id(universities1)} == {id(universities3)} --> {universities1 is universities3}')\n"
   ]
  },
  {
   "cell_type": "markdown",
   "metadata": {},
   "source": [
    "### Testing Equality between lists\n",
    "\n",
    "To check if two lists are the same, we use `==` or `!=` (not equal).\n",
    "\n",
    "Imagine two seismologists who want to verify if they are recording identical readings from the seismometer around an active fault line. \n",
    "\n",
    "Let's assume they have collected data for a day, and each seismologist has a list of 12 data points."
   ]
  },
  {
   "cell_type": "code",
   "execution_count": null,
   "metadata": {},
   "outputs": [],
   "source": [
    "readings_a = [3.5, 4.2, 3.8, 5.1, 4.9, 4.0, 3.7, 4.5, 5.2, 4.8, 3.9, 4.1]\n",
    "\n",
    "readings_b = [3.5, 4.2, 3.8, 5.1, 4.9, 4.0, 3.7, 4.5, 5.2, 4.8, 3.9, 4.1]\n",
    "\n",
    "# Testing equality between the lists\n",
    "if readings_a == readings_b:\n",
    "    print(\"The seismologists are recording the same readings.\")\n",
    "else:\n",
    "    print(\"The seismologists are recording different readings.\")\n"
   ]
  },
  {
   "cell_type": "markdown",
   "metadata": {},
   "source": [
    "Why do the readings match? Both lists have the same length (implicitly using `len`), and each value at every corresponding index is identical. \n",
    "\n",
    "If there's any mismatch at a single index, the comparison would result in `False`."
   ]
  },
  {
   "cell_type": "markdown",
   "metadata": {},
   "source": [
    "### The `in` keyword\n",
    "\n",
    "What if we want to check if a value is inside a list? In Python, we use the `in` keyword.\n",
    "\n",
    "- **Note**: We've seen this keyword when iterating using a `for` loop.\n",
    "\n",
    "If the value exists in the list, the expression returns `True`; otherwise, it returns `False`.\n",
    "\n",
    "For instance, imagine we have a list containing car brands, and we want to test if a specific brand is in the list."
   ]
  },
  {
   "cell_type": "code",
   "execution_count": null,
   "metadata": {},
   "outputs": [],
   "source": [
    "# Example list of car brands\n",
    "car_brands = ['Toyota', 'Honda', 'Ford', 'Chevrolet', 'Tesla']\n",
    "\n",
    "# Check if 'Ford' is in the list\n",
    "if 'Ford' in car_brands:\n",
    "    print('Yes, Ford is in the list of car brands!')\n",
    "else:\n",
    "    print('No, Ford is not in the list of car brands.')"
   ]
  },
  {
   "cell_type": "markdown",
   "metadata": {},
   "source": [
    "## 4: Exploring Common and Popular List Methods in Python\n",
    "\n",
    "The real strength of the list data structure lies in the built-in functions that accompany it.\n",
    "\n",
    "Through dot operator notation, lists can be adjusted or manipulated to suit our needs.\n",
    "\n",
    "Here is a non-exhaustive list of popular list methods:\n",
    "\n",
    "| Method   | Description                                      | Example Syntax                  | Result Modifies Original List  |\n",
    "|----------|--------------------------------------------------|----------------------------------|----------------------------------|\n",
    "| `index`  | Returns the index of the first occurrence of a value | `my_list.index(value)`        | False                            |\n",
    "| `count`  | Returns the number of occurrences of a value     | `my_list.count(value)`        | False                            |\n",
    "| `append` | Adds an element to the end of the list            | `my_list.append(element)`     | True                             |\n",
    "| `insert` | Inserts an element at a specified position        | `my_list.insert(index, element)`| True                             |\n",
    "| `remove` | Removes the first occurrence of a value           | `my_list.remove(value)`      | True                             |\n",
    "| `pop`    | Removes and returns the element at a given index  | `my_list.pop(index)`         | True                             |\n",
    "| `sort`   | Sorts the elements of the list                   | `my_list.sort()`              | True                             |\n",
    "| `reverse`| Reverses the order of the elements in the list    | `my_list.reverse()`           | True                             |\n",
    "| `copy`   | Returns a shallow copy of the list               | `my_list.copy()`              | False                            |\n",
    "\n",
    "\n",
    "\n"
   ]
  },
  {
   "cell_type": "code",
   "execution_count": null,
   "metadata": {},
   "outputs": [],
   "source": [
    "# Example List representing college choices\n",
    "college_choices = ['Harvard', 'Stanford', 'Harvard','MIT', 'Princeton', 'Yale', 'Harvard']\n",
    "\n",
    "# Using the index method to find the position of 'MIT' in the list\n",
    "mit_index = college_choices.index('MIT')\n",
    "print(f\"Index of 'MIT': {mit_index}\")\n",
    "print()\n",
    "\n",
    "# Using the count method to find how many times 'Harvard' appears in the list\n",
    "harvard_count = college_choices.count('Harvard')\n",
    "print(f\"Occurrences of 'Harvard': {harvard_count}\")\n",
    "print()\n",
    "\n",
    "# Using the append method to add a new choice at the end of the list\n",
    "college_choices.append('Columbia')\n",
    "print(f\"List after appending 'Columbia': {college_choices}\")\n",
    "print()\n",
    "\n",
    "# Using the insert method to add 'NYU' at a specific position in the list\n",
    "college_choices.insert(2, 'NYU')\n",
    "print(f\"List after inserting 'NYU': {college_choices}\")\n",
    "print()\n",
    "\n",
    "# Using the remove method to eliminate 'Yale' from the choices\n",
    "college_choices.remove('Yale')\n",
    "print(f\"List after removing 'Yale': {college_choices}\")\n",
    "print()\n",
    "\n",
    "# Using the pop method to remove and get the choice at index 1 ('Stanford')\n",
    "removed_college = college_choices.pop(1)\n",
    "print(f\"Removed college at index 1: {removed_college}, List after pop: {college_choices}\")\n",
    "print()\n",
    "\n",
    "# Using the sort method to arrange the choices in alphabetical order\n",
    "college_choices.sort(key=lambda x: x.split()[0])\n",
    "print(f\"Sorted list of college choices: {college_choices}\")\n",
    "print()\n",
    "\n",
    "# Using the reverse method to reverse the order of the choices\n",
    "college_choices.reverse()\n",
    "print(f\"Reversed list of college choices: {college_choices}\")\n",
    "print()"
   ]
  }
 ],
 "metadata": {
  "kernelspec": {
   "display_name": "Python 3",
   "language": "python",
   "name": "python3"
  },
  "language_info": {
   "codemirror_mode": {
    "name": "ipython",
    "version": 3
   },
   "file_extension": ".py",
   "mimetype": "text/x-python",
   "name": "python",
   "nbconvert_exporter": "python",
   "pygments_lexer": "ipython3",
   "version": "3.11.7"
  }
 },
 "nbformat": 4,
 "nbformat_minor": 2
}
