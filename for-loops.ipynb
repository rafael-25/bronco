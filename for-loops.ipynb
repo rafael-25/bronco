{
 "cells": [
  {
   "cell_type": "markdown",
   "metadata": {},
   "source": [
    "# **for** loops in Python\n",
    "\n",
    "### Big Idea 3 – Algorithms and Programming\n",
    "\n",
    "- Programs can execute specific code blocks multiple times.\n",
    "\n",
    "- Programs can be adjusted to fit the needs of a specific algorithm.\n",
    "\n",
    "- [Exam Reference Sheet](https://apcentral.collegeboard.org/media/pdf/ap-computer-science-principles-exam-reference-sheet.pdf)\n",
    "\n",
    "### Lesson Objectives\n",
    "\n",
    "- Students will be able too:\n",
    "\n",
    "    - Explain the purpose and function of for loops.\n",
    "\n",
    "    - Develop algorithms that utilize condional logic and iteration.\n",
    "\n",
    "    - Apply knowledge of conditional logical to analyze and predict the outcome of a program.\n",
    "\n",
    "    - Create programs that utilize utilize conditional logic and iteration.\n",
    "\n",
    "### A different kind of loop\n",
    "\n",
    "Previously, we learned about `while` loops, a control structure designed for repeating a line or block of code.\n",
    "\n",
    "Python is equipped with another special kind of loop known as a `for` loop.\n",
    "\n",
    "The syntax for a `for` loop is:\n",
    "\n",
    "```Python\n",
    "for i in range(count):\n",
    "    # Lines to repeats\n",
    "```\n",
    "\n",
    "Here is an example of using a `for` print the string `\"Welcome back Broncos!\"` 5 times."
   ]
  },
  {
   "cell_type": "code",
   "execution_count": null,
   "metadata": {},
   "outputs": [],
   "source": [
    "for i in range(5):\n",
    "    print(\"Welcome back Broncos!\")\n",
    "\n",
    "print(\"Program End.\")"
   ]
  },
  {
   "cell_type": "markdown",
   "metadata": {},
   "source": [
    "In the above example, **5** represents the number of repetitions. Also, notice that only the subsequent indented lines of code are executed repeatedly.\n",
    "\n",
    "Here is another example of using a `for` loop to print the numbers 0 through 4."
   ]
  },
  {
   "cell_type": "code",
   "execution_count": null,
   "metadata": {},
   "outputs": [],
   "source": [
    "for i in range(5):\n",
    "    print(i)\n",
    "\n",
    "print(\"Program End.\")"
   ]
  },
  {
   "cell_type": "markdown",
   "metadata": {},
   "source": [
    "In this example, we can see that `i` is indeed a variable. \n",
    "\n",
    "The `range()` function utilizes the variable `i` to count from 0 up to the value specified by the `count` - 1.\n",
    "\n",
    "Here is an example combining both the ideas presented above."
   ]
  },
  {
   "cell_type": "code",
   "execution_count": null,
   "metadata": {},
   "outputs": [],
   "source": [
    "for i in range(5):\n",
    "    print(i, \"Go Broncos!\")\n",
    "\n",
    "print(\"Program End.\")"
   ]
  },
  {
   "cell_type": "markdown",
   "metadata": {},
   "source": [
    "The `range()` function can also be used to with a `start` and `end` points.\n",
    "\n",
    "For example, `range(10, 21)` will produce a sequence of numbers starting at 10 and ending at 20."
   ]
  },
  {
   "cell_type": "code",
   "execution_count": null,
   "metadata": {},
   "outputs": [],
   "source": [
    "for i in range(10, 21):\n",
    "    print(i, end=\" \")"
   ]
  },
  {
   "cell_type": "markdown",
   "metadata": {},
   "source": [
    "### Ex: Calculating Sum\n",
    "\n",
    "Let's implement the function `sumToN(n)`, which takes a number `n` and prints the sum of the numbers starting from 1 up to and including `n`.\n",
    "\n",
    "For example:\n",
    "\n",
    "- The call `sumToN(1)` would print 1.\n",
    "\n",
    "- The call `sumToN(5)` would print 15.\n",
    "\n",
    "- The call `sumToN(12)` would print 78.\n",
    "\n",
    "We will assume `n` is an integer greater than 0."
   ]
  },
  {
   "cell_type": "code",
   "execution_count": null,
   "metadata": {},
   "outputs": [],
   "source": [
    "def sumToN(n):\n",
    "    \"\"\"Prints the sum of numbers from 1 up to and including n\"\"\""
   ]
  },
  {
   "cell_type": "markdown",
   "metadata": {},
   "source": [
    "### Ex: Factorials\n",
    "\n",
    "Now let's implement a function called `factorial(n)` that computes the `n`!\n",
    "\n",
    "For example:\n",
    "\n",
    "- The call `factorial(1)` would print 1.\n",
    "\n",
    "- The call `factorial(3)` would print 6.\n",
    "\n",
    "- The call `factorial(5)` would print 120.\n",
    "\n",
    "We will assume `n` is an integer greater than 0."
   ]
  },
  {
   "cell_type": "code",
   "execution_count": null,
   "metadata": {},
   "outputs": [],
   "source": [
    "def factorial(n):\n",
    "    \"\"\"Prints the factorial of n\"\"\""
   ]
  },
  {
   "cell_type": "markdown",
   "metadata": {},
   "source": [
    "## Nested **for** loops\n",
    "\n",
    "Just as we can nest `if` statements and `while` loops. We can also nest `for` loops."
   ]
  },
  {
   "cell_type": "code",
   "execution_count": null,
   "metadata": {},
   "outputs": [],
   "source": [
    "print('x', 'y')\n",
    "# outer loop\n",
    "for x in range(3):\n",
    "    # inner loop\n",
    "    for y in range(3):\n",
    "        print(x, y)"
   ]
  },
  {
   "cell_type": "markdown",
   "metadata": {},
   "source": [
    "In the example above, with each iteration of the **outer** loop with variable `x`, the **inner** loop iteratres completely with the variable `y`."
   ]
  },
  {
   "cell_type": "markdown",
   "metadata": {},
   "source": [
    "## **for** loops on the AP Exam\n",
    "\n",
    "Because the AP Exam is program agnostic, it is important to understand the Pseudo Code used fot the AP Exam.\n",
    "\n",
    "Here is how a `for` loop is represented on the AP Exam.\n",
    "\n",
    "![alt text](for.png)\n",
    "\n",
    "This is the equivalent pseudocode for displaying the multiples of 9, from 1 to 12:\n",
    "\n",
    "```Text\n",
    "i ← 1\n",
    "REPEAT 12 TIMES \n",
    "{ \n",
    "   DISPLAY(9 * i)\n",
    "   i ← i + 1\n",
    "}\n",
    "```\n",
    "This is the equivalent Python for displaying the multiples of 9, from 1 to 12:\n",
    "\n",
    "```Python\n",
    "for i in range(12):\n",
    "   print(9 * i)\n",
    "```\n"
   ]
  }
 ],
 "metadata": {
  "kernelspec": {
   "display_name": "Python 3",
   "language": "python",
   "name": "python3"
  },
  "language_info": {
   "codemirror_mode": {
    "name": "ipython",
    "version": 3
   },
   "file_extension": ".py",
   "mimetype": "text/x-python",
   "name": "python",
   "nbconvert_exporter": "python",
   "pygments_lexer": "ipython3",
   "version": "3.12.0"
  }
 },
 "nbformat": 4,
 "nbformat_minor": 2
}
